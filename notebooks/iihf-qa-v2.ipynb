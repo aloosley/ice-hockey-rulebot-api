{
 "cells": [
  {
   "cell_type": "code",
   "execution_count": null,
   "id": "a2e17694-7f2b-4741-a98a-5209d6873f37",
   "metadata": {},
   "outputs": [],
   "source": [
    "%load_ext autoreload\n",
    "%autoreload 2"
   ]
  },
  {
   "cell_type": "markdown",
   "id": "2ac53435-a2b6-4f74-ab9b-36e28f15c178",
   "metadata": {},
   "source": [
    "# Config"
   ]
  },
  {
   "cell_type": "code",
   "execution_count": null,
   "id": "ec002ab5-76b8-4540-9c5c-3119766e7278",
   "metadata": {},
   "outputs": [],
   "source": [
    "from icehockey_rules.config import get_config\n",
    "\n",
    "config = get_config()"
   ]
  },
  {
   "cell_type": "markdown",
   "id": "0c198737-7001-4197-97ec-4320e6371777",
   "metadata": {},
   "source": [
    "# Data"
   ]
  },
  {
   "cell_type": "markdown",
   "id": "c4dfdcf5-e0de-4c58-b4eb-1e6c4b8ede76",
   "metadata": {},
   "source": [
    "## Transcribed Rulebook"
   ]
  },
  {
   "cell_type": "markdown",
   "id": "51d3825d",
   "metadata": {
    "ExecuteTime": {
     "end_time": "2022-08-15T15:32:01.771325Z",
     "start_time": "2022-08-15T15:32:01.768819Z"
    }
   },
   "source": [
    "### Load Data\n",
    "(from yaml to a Python dictionary)"
   ]
  },
  {
   "cell_type": "code",
   "execution_count": null,
   "id": "e57d5e48",
   "metadata": {
    "ExecuteTime": {
     "end_time": "2022-09-10T09:19:51.621647Z",
     "start_time": "2022-09-10T09:19:51.467823Z"
    }
   },
   "outputs": [],
   "source": [
    "from icehockey_rules.rulebook import get_rulebooks, __version__ as parsing_version\n",
    "\n",
    "rulebooks = get_rulebooks()\n",
    "iihf_rulebook = rulebooks[\"iihf\"]"
   ]
  },
  {
   "cell_type": "markdown",
   "id": "b93d4ad2-7c06-4e2d-b8c3-89cc7efcfab7",
   "metadata": {},
   "source": [
    "### Assert All Ids Unique"
   ]
  },
  {
   "cell_type": "code",
   "execution_count": null,
   "id": "2e8fbb88",
   "metadata": {
    "ExecuteTime": {
     "end_time": "2022-09-10T09:19:55.932075Z",
     "start_time": "2022-09-10T09:19:55.925929Z"
    }
   },
   "outputs": [],
   "source": [
    "ids = []\n",
    "for rule in iihf_rulebook[\"rules\"]:\n",
    "    if \"situation\" in rule:\n",
    "        for situation in rule[\"situation\"]:\n",
    "            ids.append(situation[\"number\"])\n",
    "\n",
    "    for subsection in rule[\"subsections\"]:\n",
    "        ids.append(subsection[\"number\"])\n",
    "        \n",
    "assert len(ids) == len(set(ids))"
   ]
  },
  {
   "cell_type": "markdown",
   "id": "83152546",
   "metadata": {},
   "source": [
    "### Table Form (Pandas)\n",
    "Example of sections and situations for rule 8"
   ]
  },
  {
   "cell_type": "markdown",
   "id": "3024cf50-cf8b-4853-b27f-23f0dd5a9300",
   "metadata": {},
   "source": [
    "#### Situations"
   ]
  },
  {
   "cell_type": "code",
   "execution_count": null,
   "id": "d94c8c9a",
   "metadata": {
    "ExecuteTime": {
     "end_time": "2022-09-10T09:20:21.552405Z",
     "start_time": "2022-09-10T09:20:21.527899Z"
    }
   },
   "outputs": [],
   "source": [
    "from icehockey_rules.rulebook import get_iihf_situations_df\n",
    "\n",
    "iihf_situations_df = get_iihf_situations_df()\n",
    "iihf_situations_df.char_count.hist(bins=50)"
   ]
  },
  {
   "cell_type": "markdown",
   "id": "4f9a8f7d-5a77-4e41-9e1f-af24ed9a4b8d",
   "metadata": {},
   "source": [
    "#### Subsections"
   ]
  },
  {
   "cell_type": "code",
   "execution_count": null,
   "id": "43c5778d-593d-4b9b-94a9-ab3291e24bb8",
   "metadata": {},
   "outputs": [],
   "source": [
    "from icehockey_rules.rulebook import get_iihf_subsections_df\n",
    "\n",
    "iihf_subsections_df = get_iihf_subsections_df()\n",
    "iihf_subsections_df.char_count.hist(bins=50)"
   ]
  },
  {
   "cell_type": "markdown",
   "id": "fcde882c-71e9-4bc2-b3ac-4ae92d9d7a3a",
   "metadata": {},
   "source": [
    "## Rule and Situation Chunks\n",
    "\n",
    "The plan is to chunk rules by their subsections and casebook situations.  If any one of these chunks is still too big (say more than 300 characters), then further chunk into 300 character segments."
   ]
  },
  {
   "cell_type": "code",
   "execution_count": null,
   "id": "2be699c9-8403-4509-9eb3-90d3b88b66eb",
   "metadata": {},
   "outputs": [],
   "source": [
    "from icehockey_rules.rulebook import get_chunked_iihf_rulebook_records\n",
    "\n",
    "chunked_iihf_rulebook_records = get_chunked_iihf_rulebook_records(iihf_rulebook)\n",
    "len(chunked_iihf_rulebook_records)"
   ]
  },
  {
   "cell_type": "code",
   "execution_count": null,
   "id": "cae3f699-2fbb-4ffd-b8bd-88ed89ea2081",
   "metadata": {},
   "outputs": [],
   "source": [
    "[record[\"id\"] for record in chunked_iihf_rulebook_records][:10]"
   ]
  },
  {
   "cell_type": "markdown",
   "id": "118e66e1-4901-4735-85be-70e980b7f586",
   "metadata": {},
   "source": [
    "## Chunk Embeddings"
   ]
  },
  {
   "cell_type": "markdown",
   "id": "0cf0f82c-f1da-405d-ac5d-6ef91a2affe1",
   "metadata": {},
   "source": [
    "### Model"
   ]
  },
  {
   "cell_type": "code",
   "execution_count": null,
   "id": "0bee6108-7460-4dc5-a096-d59209051504",
   "metadata": {},
   "outputs": [],
   "source": [
    "from dotenv import load_dotenv\n",
    "_ = load_dotenv()"
   ]
  },
  {
   "cell_type": "code",
   "execution_count": null,
   "id": "146efe8d-d57d-4669-872f-9bf27e035555",
   "metadata": {},
   "outputs": [],
   "source": [
    "from openai import OpenAI\n",
    "\n",
    "openai_client = OpenAI()"
   ]
  },
  {
   "cell_type": "markdown",
   "id": "3f45c983-59e9-45f1-9ae4-7f1ee43dfa54",
   "metadata": {},
   "source": [
    "### Embed Rulebook and Persist (or Load)"
   ]
  },
  {
   "cell_type": "code",
   "execution_count": null,
   "id": "8988df77-ab4b-402d-9e79-08b067d90a8c",
   "metadata": {},
   "outputs": [],
   "source": [
    "NAME = f\"rulebook--{parsing_version}--{config.embedder.model}\"\n",
    "RE_EMBED = False\n",
    "NAME"
   ]
  },
  {
   "cell_type": "code",
   "execution_count": null,
   "id": "0ab44c1c-82cf-41cd-a9dc-c81082583514",
   "metadata": {},
   "outputs": [],
   "source": [
    "from pathlib import Path\n",
    "import pickle\n",
    "from copy import deepcopy\n",
    "\n",
    "chunked_iihf_rulebook_embedding_filepath = Path(f\"../data/{NAME}-embeddings.p\")\n",
    "\n",
    "if chunked_iihf_rulebook_embedding_filepath.exists() and not RE_EMBED:\n",
    "    with chunked_iihf_rulebook_embedding_filepath.open(\"rb\") as f:\n",
    "        chunked_iihf_rulebook_embeddings = pickle.load(f)\n",
    "\n",
    "    # Ensure everything besides values are valid\n",
    "    assert len(chunked_iihf_rulebook_embeddings) == len(chunked_iihf_rulebook_records)\n",
    "        \n",
    "else:\n",
    "    chunked_iihf_rulebook_embeddings = [\n",
    "        dict(\n",
    "            id=chunk_record[\"id\"],\n",
    "            values=embedding_obj.embedding \n",
    "        )\n",
    "        for embedding_obj, chunk_record in zip(\n",
    "            openai_client.embeddings.create(\n",
    "                input=[\n",
    "                    chunk_record[\"metadata\"][\"text\"]\n",
    "                    for chunk_record in chunked_iihf_rulebook_records\n",
    "                ],\n",
    "                model=config.embedder.model\n",
    "            ).data,\n",
    "            chunked_iihf_rulebook_records\n",
    "        )\n",
    "    ]\n",
    "\n",
    "    with chunked_iihf_rulebook_embedding_filepath.open(\"wb\") as f:\n",
    "        pickle.dump(chunked_iihf_rulebook_embeddings, f)\n",
    "\n",
    "    with chunked_iihf_rulebook_embedding_filepath.open(\"rb\") as f:\n",
    "        chunked_iihf_rulebook_embeddings_test = pickle.load(f)\n",
    "    \n",
    "    assert chunked_iihf_rulebook_embeddings == chunked_iihf_rulebook_embeddings_test"
   ]
  },
  {
   "cell_type": "code",
   "execution_count": null,
   "id": "1affe282-0dff-4bfb-8184-dc57d044fc54",
   "metadata": {},
   "outputs": [],
   "source": [
    "    with chunked_iihf_rulebook_embedding_filepath.open(\"wb\") as f:\n",
    "        pickle.dump(chunked_iihf_rulebook_embeddings, f)"
   ]
  },
  {
   "cell_type": "code",
   "execution_count": null,
   "id": "b1519ab3-535f-42b3-920b-ddfd247385bd",
   "metadata": {},
   "outputs": [],
   "source": [
    "embedding_dim = len(chunked_iihf_rulebook_embeddings[0]['values'])\n",
    "embedding_dim"
   ]
  },
  {
   "cell_type": "markdown",
   "id": "729de3c2-507a-43fb-aec2-0f640079ca90",
   "metadata": {},
   "source": [
    "# Vector Database"
   ]
  },
  {
   "cell_type": "markdown",
   "id": "20abb589-6b55-4e13-be9e-fae0c736c602",
   "metadata": {},
   "source": [
    "## Pinecone"
   ]
  },
  {
   "cell_type": "code",
   "execution_count": null,
   "id": "04e05502-701e-48f0-b43d-3418f5c19886",
   "metadata": {},
   "outputs": [],
   "source": [
    "import os\n",
    "from pinecone.grpc import PineconeGRPC as Pinecone\n",
    "\n",
    "# initialize connection to pinecone (get API key at app.pinecone.io)\n",
    "pinecone_api_key = os.getenv(\"PINECONE_API_KEY\") or \"PINECONE_API_KEY\"\n",
    "\n",
    "pinecone_client = Pinecone(api_key=pinecone_api_key)\n",
    "pinecone_client.list_indexes()"
   ]
  },
  {
   "cell_type": "markdown",
   "id": "29f33e4e-9c4d-403c-86ed-d78b7a0f7896",
   "metadata": {},
   "source": [
    "### Create Index"
   ]
  },
  {
   "cell_type": "code",
   "execution_count": null,
   "id": "2cc57055-cd55-47c9-91c3-5ec23c4f9b4e",
   "metadata": {},
   "outputs": [],
   "source": [
    "from pinecone import ServerlessSpec\n",
    "from icehockey_rules.retrieve import INDEX_NAME, PINECONE_INDEX\n",
    "\n",
    "\n",
    "if INDEX_NAME not in [index[\"name\"] for index in pinecone_client.list_indexes()]:\n",
    "    pinecone_client.create_index(\n",
    "        name=INDEX_NAME,\n",
    "        dimension=embedding_dim,\n",
    "        metric=\"cosine\",\n",
    "        spec=ServerlessSpec(\n",
    "            cloud='aws', \n",
    "            region='us-east-1'\n",
    "        ) \n",
    "    )"
   ]
  },
  {
   "cell_type": "markdown",
   "id": "492de1d1-d284-4733-a6fc-40bcf30e3bc5",
   "metadata": {},
   "source": [
    "### Populate Index"
   ]
  },
  {
   "cell_type": "code",
   "execution_count": null,
   "id": "9f93ddb0-3575-4c0b-b33e-2e5fa5811a92",
   "metadata": {},
   "outputs": [],
   "source": [
    "def chunker(seq, batch_size):\n",
    "  return (seq[pos:pos + batch_size] for pos in range(0, len(seq), batch_size))\n",
    "\n",
    "yn_sure = input(\"are you sure you want to index?\")\n",
    "if yn_sure.lower() == 'y':\n",
    "    print(\"indexing\")\n",
    "    async_results = [\n",
    "        PINECONE_INDEX.upsert(vectors=chunk, async_req=True)\n",
    "        for chunk in chunker(chunked_iihf_rulebook_embeddings, batch_size=100)\n",
    "    ]\n",
    "    \n",
    "    # Wait for and retrieve responses (in case of error)\n",
    "    [async_result.result() for async_result in async_results]\n",
    "\n",
    "del chunked_iihf_rulebook_embeddings"
   ]
  },
  {
   "cell_type": "code",
   "execution_count": null,
   "id": "06f2ba4f-c619-4765-b0d2-6ebdb1ba6972",
   "metadata": {},
   "outputs": [],
   "source": [
    "assert PINECONE_INDEX.describe_index_stats()[\"total_vector_count\"] == len(chunked_iihf_rulebook_records)"
   ]
  },
  {
   "cell_type": "markdown",
   "id": "1c0901f4-844c-496e-87b5-5da9c425d2b4",
   "metadata": {},
   "source": [
    "# Retrieval"
   ]
  },
  {
   "cell_type": "markdown",
   "id": "edc79675-730f-4ff0-b9f8-8be95188f2bc",
   "metadata": {},
   "source": [
    "## In Memory Rule Index"
   ]
  },
  {
   "cell_type": "code",
   "execution_count": null,
   "id": "6e4ee883-9016-4a3d-ba56-848c43d123c9",
   "metadata": {},
   "outputs": [],
   "source": [
    "from icehockey_rules.rulebook import get_inmem_chunked_iihf_rulebook_index\n",
    "\n",
    "inmem_chunked_iihf_rulebook_index = get_inmem_chunked_iihf_rulebook_index()\n",
    "assert len(inmem_chunked_iihf_rulebook_index) == len(chunked_iihf_rulebook_records)"
   ]
  },
  {
   "cell_type": "markdown",
   "id": "f8b29de9-227e-4633-974f-31a8bbda6750",
   "metadata": {},
   "source": [
    "## Query"
   ]
  },
  {
   "cell_type": "code",
   "execution_count": null,
   "id": "eaabe5b0-c940-4ad9-884e-c64f4693c164",
   "metadata": {},
   "outputs": [],
   "source": [
    "# SITUATION = \"How many game misconducts should be handed out when each player from the team fights?\"\n",
    "SITUATION = \"Can a player win a faceoff with their foot?\"\n",
    "TOP_K_CHUNKS = config.retriever.top_k_chunks\n",
    "TOP_K_RULES = config.retriever.top_k_rules"
   ]
  },
  {
   "cell_type": "markdown",
   "id": "f8b9c482-9e45-42dc-8515-322b93acd1c3",
   "metadata": {},
   "source": [
    "## Retreive Rule Matches and Retrieval Scores"
   ]
  },
  {
   "cell_type": "code",
   "execution_count": null,
   "id": "06aac6c2-f1d9-4d76-966a-55a62408dc93",
   "metadata": {},
   "outputs": [],
   "source": [
    "from icehockey_rules.retrieve import retrieve, chunk_matches_to_rules_df\n",
    "\n",
    "chunk_matches = retrieve(query=SITUATION, top_k=TOP_K_CHUNKS).matches\n",
    "rule_matches_df = chunk_matches_to_rules_df(chunk_matches, top_k_rules=TOP_K_RULES)\n",
    "rule_matches_df"
   ]
  },
  {
   "cell_type": "markdown",
   "id": "ea52c447-0d46-4d86-a737-76599c0b3ee2",
   "metadata": {},
   "source": [
    "# RAG"
   ]
  },
  {
   "cell_type": "markdown",
   "id": "7b3b453c-e49d-41e6-846c-9d5c89317fe8",
   "metadata": {},
   "source": [
    "## Prompts"
   ]
  },
  {
   "cell_type": "code",
   "execution_count": null,
   "id": "4fef37a8-392d-435e-8260-f37377616553",
   "metadata": {},
   "outputs": [],
   "source": [
    "from icehockey_rules.chat import query_to_rag_prompt, SYSTEM_PROMPT\n",
    "\n",
    "system_prompt = SYSTEM_PROMPT\n",
    "rag_prompt = query_to_rag_prompt(query=SITUATION)\n",
    "len(system_prompt) + len(rag_prompt)"
   ]
  },
  {
   "cell_type": "code",
   "execution_count": null,
   "id": "234ae280-9d58-4f4a-9a8d-d5eca7a58d43",
   "metadata": {},
   "outputs": [],
   "source": []
  },
  {
   "cell_type": "markdown",
   "id": "b096b17a-7d04-4592-9fc7-52d8c3a7f42a",
   "metadata": {},
   "source": [
    "## Ask ChatGPT"
   ]
  },
  {
   "cell_type": "code",
   "execution_count": null,
   "id": "3c248983-abdb-4393-9be9-1c79dd9ef23b",
   "metadata": {},
   "outputs": [],
   "source": [
    "from icehockey_rules.chat import SYSTEM_PROMPT \n",
    "\n",
    "completion = openai_client.chat.completions.create(\n",
    "    model=\"gpt-3.5-turbo\",\n",
    "    messages=[\n",
    "        dict(role=\"system\", content=SYSTEM_PROMPT),\n",
    "        dict(role=\"user\", content=rag_prompt),\n",
    "    ],\n",
    "    temperature=0.0\n",
    ")\n"
   ]
  },
  {
   "cell_type": "code",
   "execution_count": null,
   "id": "de9cff16-1dd6-49bb-b3ef-5137fedd1040",
   "metadata": {},
   "outputs": [],
   "source": [
    "print(\"Question:\", SITUATION)\n",
    "print(\"Answer:\\n\", completion.choices[0].message.content)\n",
    "print(\"Rules Retrieved:\", rule_matches_df)"
   ]
  },
  {
   "cell_type": "markdown",
   "id": "b5d55287-1b02-48db-972a-ca0ed3e32b9e",
   "metadata": {},
   "source": [
    "# As PIPELINE"
   ]
  },
  {
   "cell_type": "code",
   "execution_count": null,
   "id": "53063db9-f743-4b60-84a0-97293410d2fa",
   "metadata": {},
   "outputs": [],
   "source": [
    "from icehockey_rules.pipelines import one_off_question_answer\n",
    "\n",
    "print(\"Question:\", SITUATION)\n",
    "one_off_question_answer(\n",
    "    query=SITUATION, \n",
    "    # llm_model=\"gpt-4-turbo-2024-04-09\",\n",
    "    llm_model=\"gpt-3.5-turbo-0125\",\n",
    "    # llm_model=\"gpt-4o-2024-05-13\",\n",
    "    top_k_chunks=10,\n",
    "    top_k_rules=6,\n",
    "    rule_score_threshold=0.4,\n",
    "    llm_temperature=0.0,\n",
    ")"
   ]
  },
  {
   "cell_type": "markdown",
   "id": "a4787538-d32e-420a-a682-a6269eb2003b",
   "metadata": {},
   "source": [
    "# From API"
   ]
  },
  {
   "cell_type": "code",
   "execution_count": null,
   "id": "2a946d7b-c25b-4aca-aa32-b518926cb3cb",
   "metadata": {},
   "outputs": [],
   "source": [
    "import requests\n",
    "\n",
    "endpoint_url = \"http://localhost:8000/context/chat/completions\"\n",
    "\n",
    "access_token = os.getenv(\"API_KEY\")\n",
    "\n",
    "response = requests.post(url=endpoint_url, params=dict(query=\"hello\"), headers=dict(access_token=access_token))\n",
    "response.status_code"
   ]
  },
  {
   "cell_type": "markdown",
   "id": "9ffdee52-e988-46a9-a974-71d70293ca10",
   "metadata": {},
   "source": [
    "$r_{n+1} = r_n - \\gamma_n \\nabla F(r_n)$"
   ]
  },
  {
   "cell_type": "markdown",
   "id": "8f66ef2e-b6d7-40b3-9ad8-1c428bcb66f8",
   "metadata": {},
   "source": [
    "$\\mathop{\\mathbb{E}}[r^2(t)] = t^\\alpha$"
   ]
  },
  {
   "cell_type": "markdown",
   "id": "8f6b9a91-81d1-44cd-9f44-d2a0e2b8342b",
   "metadata": {},
   "source": [
    "$\\beta(t) = \\frac{d\\alpha}{dt}t\\ln(t) + \\alpha$"
   ]
  },
  {
   "cell_type": "markdown",
   "id": "ef04d310-a316-4a24-985c-03726a2b20ef",
   "metadata": {},
   "source": [
    "# Chain Of Thought (CoT)"
   ]
  },
  {
   "cell_type": "markdown",
   "id": "e1775875-1d19-42f5-8640-5499d749548e",
   "metadata": {},
   "source": [
    "## Identify the type of question"
   ]
  },
  {
   "cell_type": "code",
   "execution_count": null,
   "id": "26e87381-48e5-4120-9413-f7a928c27064",
   "metadata": {},
   "outputs": [],
   "source": [
    "two_questions=\"\"\"Split the QUERY into multiple parts, one for each action taken by a player in the game.  Do not list questions or actions taken by the referee.\n",
    "\n",
    "QUERY: The player punchs somebody in the face, and the other player responds by calling out his mother.  The referee gives both players two minute minors.  Is this correct?\n",
    "\"\"\"\n",
    "\n",
    "completion = openai_client.chat.completions.create(\n",
    "    model=\"gpt-4-turbo\",\n",
    "    messages=[\n",
    "        dict(role=\"user\", content=two_questions),\n",
    "    ],\n",
    "    temperature=0.0\n",
    ")\n",
    "print(\"Answer:\\n\", completion.choices[0].message.content)"
   ]
  },
  {
   "cell_type": "markdown",
   "id": "c609b02e-f6a3-4bf0-a55b-b45f5e144b17",
   "metadata": {},
   "source": [
    "## Ask each Question Separately"
   ]
  },
  {
   "cell_type": "markdown",
   "id": "866cb57b-f631-482b-a7dd-71ae8b8d7ae7",
   "metadata": {},
   "source": [
    "## CoT Prompt for Combined Penalties and Timing Situations"
   ]
  }
 ],
 "metadata": {
  "kernelspec": {
   "display_name": "Python 3.12 (rulebot)",
   "language": "python",
   "name": "rulebot"
  },
  "language_info": {
   "codemirror_mode": {
    "name": "ipython",
    "version": 3
   },
   "file_extension": ".py",
   "mimetype": "text/x-python",
   "name": "python",
   "nbconvert_exporter": "python",
   "pygments_lexer": "ipython3",
   "version": "3.12.3"
  },
  "toc": {
   "base_numbering": 1,
   "nav_menu": {},
   "number_sections": true,
   "sideBar": true,
   "skip_h1_title": false,
   "title_cell": "Table of Contents",
   "title_sidebar": "Contents",
   "toc_cell": false,
   "toc_position": {},
   "toc_section_display": true,
   "toc_window_display": false
  }
 },
 "nbformat": 4,
 "nbformat_minor": 5
}
