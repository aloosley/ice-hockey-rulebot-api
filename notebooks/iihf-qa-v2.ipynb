{
 "cells": [
  {
   "cell_type": "code",
   "execution_count": 1,
   "id": "a2e17694-7f2b-4741-a98a-5209d6873f37",
   "metadata": {},
   "outputs": [],
   "source": [
    "%load_ext autoreload\n",
    "%autoreload 2"
   ]
  },
  {
   "cell_type": "markdown",
   "id": "2ac53435-a2b6-4f74-ab9b-36e28f15c178",
   "metadata": {},
   "source": [
    "# Config"
   ]
  },
  {
   "cell_type": "code",
   "execution_count": 2,
   "id": "ec002ab5-76b8-4540-9c5c-3119766e7278",
   "metadata": {},
   "outputs": [],
   "source": [
    "from icehockey_rules.config import get_config\n",
    "\n",
    "config = get_config()"
   ]
  },
  {
   "cell_type": "markdown",
   "id": "0c198737-7001-4197-97ec-4320e6371777",
   "metadata": {},
   "source": [
    "# Data"
   ]
  },
  {
   "cell_type": "markdown",
   "id": "c4dfdcf5-e0de-4c58-b4eb-1e6c4b8ede76",
   "metadata": {},
   "source": [
    "## Transcribed Rulebook"
   ]
  },
  {
   "cell_type": "markdown",
   "id": "51d3825d",
   "metadata": {
    "ExecuteTime": {
     "end_time": "2022-08-15T15:32:01.771325Z",
     "start_time": "2022-08-15T15:32:01.768819Z"
    }
   },
   "source": [
    "### Load Data\n",
    "(from yaml to a Python dictionary)"
   ]
  },
  {
   "cell_type": "code",
   "execution_count": 3,
   "id": "e57d5e48",
   "metadata": {
    "ExecuteTime": {
     "end_time": "2022-09-10T09:19:51.621647Z",
     "start_time": "2022-09-10T09:19:51.467823Z"
    }
   },
   "outputs": [],
   "source": [
    "from icehockey_rules.rulebook import get_rulebooks, __version__ as parsing_version\n",
    "\n",
    "rulebooks = get_rulebooks()\n",
    "iihf_rulebook = rulebooks[\"iihf\"]"
   ]
  },
  {
   "cell_type": "markdown",
   "id": "b93d4ad2-7c06-4e2d-b8c3-89cc7efcfab7",
   "metadata": {},
   "source": [
    "### Assert All Ids Unique"
   ]
  },
  {
   "cell_type": "code",
   "execution_count": 4,
   "id": "2e8fbb88",
   "metadata": {
    "ExecuteTime": {
     "end_time": "2022-09-10T09:19:55.932075Z",
     "start_time": "2022-09-10T09:19:55.925929Z"
    }
   },
   "outputs": [],
   "source": [
    "ids = []\n",
    "for rule in iihf_rulebook[\"rules\"]:\n",
    "    if \"situation\" in rule:\n",
    "        for situation in rule[\"situation\"]:\n",
    "            ids.append(situation[\"number\"])\n",
    "\n",
    "    for subsection in rule[\"subsections\"]:\n",
    "        ids.append(subsection[\"number\"])\n",
    "        \n",
    "assert len(ids) == len(set(ids))"
   ]
  },
  {
   "cell_type": "markdown",
   "id": "83152546",
   "metadata": {},
   "source": [
    "### Table Form (Pandas)\n",
    "Example of sections and situations for rule 8"
   ]
  },
  {
   "cell_type": "markdown",
   "id": "3024cf50-cf8b-4853-b27f-23f0dd5a9300",
   "metadata": {},
   "source": [
    "#### Situations"
   ]
  },
  {
   "cell_type": "code",
   "execution_count": 5,
   "id": "d94c8c9a",
   "metadata": {
    "ExecuteTime": {
     "end_time": "2022-09-10T09:20:21.552405Z",
     "start_time": "2022-09-10T09:20:21.527899Z"
    }
   },
   "outputs": [
    {
     "data": {
      "text/plain": [
       "<Axes: >"
      ]
     },
     "execution_count": 5,
     "metadata": {},
     "output_type": "execute_result"
    },
    {
     "data": {
      "image/png": "[encoded data removed]",
      "text/plain": [
       "<Figure size 640x480 with 1 Axes>"
      ]
     },
     "metadata": {},
     "output_type": "display_data"
    }
   ],
   "source": [
    "from icehockey_rules.rulebook import get_iihf_situations_df\n",
    "\n",
    "iihf_situations_df = get_iihf_situations_df()\n",
    "iihf_situations_df.char_count.hist(bins=50)"
   ]
  },
  {
   "cell_type": "markdown",
   "id": "4f9a8f7d-5a77-4e41-9e1f-af24ed9a4b8d",
   "metadata": {},
   "source": [
    "#### Subsections"
   ]
  },
  {
   "cell_type": "code",
   "execution_count": 6,
   "id": "43c5778d-593d-4b9b-94a9-ab3291e24bb8",
   "metadata": {},
   "outputs": [
    {
     "data": {
      "text/plain": [
       "<Axes: >"
      ]
     },
     "execution_count": 6,
     "metadata": {},
     "output_type": "execute_result"
    },
    {
     "data": {
      "image/png": "[encoded data removed]",
      "text/plain": [
       "<Figure size 640x480 with 1 Axes>"
      ]
     },
     "metadata": {},
     "output_type": "display_data"
    }
   ],
   "source": [
    "from icehockey_rules.rulebook import get_iihf_subsections_df\n",
    "\n",
    "iihf_subsections_df = get_iihf_subsections_df()\n",
    "iihf_subsections_df.char_count.hist(bins=50)"
   ]
  },
  {
   "cell_type": "markdown",
   "id": "fcde882c-71e9-4bc2-b3ac-4ae92d9d7a3a",
   "metadata": {},
   "source": [
    "## Rule and Situation Chunks\n",
    "\n",
    "The plan is to chunk rules by their subsections and casebook situations.  If any one of these chunks is still too big (say more than 300 characters), then further chunk into 300 character segments."
   ]
  },
  {
   "cell_type": "code",
   "execution_count": 7,
   "id": "2be699c9-8403-4509-9eb3-90d3b88b66eb",
   "metadata": {},
   "outputs": [
    {
     "data": {
      "text/plain": [
       "1126"
      ]
     },
     "execution_count": 7,
     "metadata": {},
     "output_type": "execute_result"
    }
   ],
   "source": [
    "from icehockey_rules.rulebook import get_chunked_iihf_rulebook_records\n",
    "\n",
    "chunked_iihf_rulebook_records = get_chunked_iihf_rulebook_records(iihf_rulebook)\n",
    "len(chunked_iihf_rulebook_records)"
   ]
  },
  {
   "cell_type": "code",
   "execution_count": 8,
   "id": "cae3f699-2fbb-4ffd-b8bd-88ed89ea2081",
   "metadata": {},
   "outputs": [
    {
     "data": {
      "text/plain": [
       "['1.1-0',\n",
       " '1.1-1',\n",
       " '1.2',\n",
       " '1.3-0',\n",
       " '1.3-1',\n",
       " '1.3-2',\n",
       " '1.4-0',\n",
       " '1.4-1',\n",
       " '1.5-0',\n",
       " '1.5-1']"
      ]
     },
     "execution_count": 8,
     "metadata": {},
     "output_type": "execute_result"
    }
   ],
   "source": [
    "[record[\"id\"] for record in chunked_iihf_rulebook_records][:10]"
   ]
  },
  {
   "cell_type": "markdown",
   "id": "118e66e1-4901-4735-85be-70e980b7f586",
   "metadata": {},
   "source": [
    "## Chunk Embeddings"
   ]
  },
  {
   "cell_type": "markdown",
   "id": "0cf0f82c-f1da-405d-ac5d-6ef91a2affe1",
   "metadata": {},
   "source": [
    "### Model"
   ]
  },
  {
   "cell_type": "code",
   "execution_count": 9,
   "id": "0bee6108-7460-4dc5-a096-d59209051504",
   "metadata": {},
   "outputs": [],
   "source": [
    "from dotenv import load_dotenv\n",
    "_ = load_dotenv()"
   ]
  },
  {
   "cell_type": "code",
   "execution_count": 10,
   "id": "146efe8d-d57d-4669-872f-9bf27e035555",
   "metadata": {},
   "outputs": [],
   "source": [
    "from openai import OpenAI\n",
    "\n",
    "openai_client = OpenAI()"
   ]
  },
  {
   "cell_type": "markdown",
   "id": "3f45c983-59e9-45f1-9ae4-7f1ee43dfa54",
   "metadata": {},
   "source": [
    "### Embed Rulebook and Persist (or Load)"
   ]
  },
  {
   "cell_type": "code",
   "execution_count": 11,
   "id": "8988df77-ab4b-402d-9e79-08b067d90a8c",
   "metadata": {},
   "outputs": [
    {
     "data": {
      "text/plain": [
       "'rulebook--v1--text-embedding-3-small'"
      ]
     },
     "execution_count": 11,
     "metadata": {},
     "output_type": "execute_result"
    }
   ],
   "source": [
    "NAME = f\"rulebook--{parsing_version}--{config.embedder.model}\"\n",
    "RE_EMBED = False\n",
    "NAME"
   ]
  },
  {
   "cell_type": "code",
   "execution_count": 12,
   "id": "0ab44c1c-82cf-41cd-a9dc-c81082583514",
   "metadata": {},
   "outputs": [],
   "source": [
    "from pathlib import Path\n",
    "import pickle\n",
    "from copy import deepcopy\n",
    "\n",
    "chunked_iihf_rulebook_embedding_filepath = Path(f\"../data/{NAME}-embeddings.p\")\n",
    "\n",
    "if chunked_iihf_rulebook_embedding_filepath.exists() and not RE_EMBED:\n",
    "    with chunked_iihf_rulebook_embedding_filepath.open(\"rb\") as f:\n",
    "        chunked_iihf_rulebook_embeddings = pickle.load(f)\n",
    "\n",
    "    # Ensure everything besides values are valid\n",
    "    assert len(chunked_iihf_rulebook_embeddings) == len(chunked_iihf_rulebook_records)\n",
    "        \n",
    "else:\n",
    "    chunked_iihf_rulebook_embeddings = [\n",
    "        dict(\n",
    "            id=chunk_record[\"id\"],\n",
    "            values=embedding_obj.embedding \n",
    "        )\n",
    "        for embedding_obj, chunk_record in zip(\n",
    "            openai_client.embeddings.create(\n",
    "                input=[\n",
    "                    chunk_record[\"metadata\"][\"text\"]\n",
    "                    for chunk_record in chunked_iihf_rulebook_records\n",
    "                ],\n",
    "                model=config.embedder.model\n",
    "            ).data,\n",
    "            chunked_iihf_rulebook_records\n",
    "        )\n",
    "    ]\n",
    "\n",
    "    with chunked_iihf_rulebook_embedding_filepath.open(\"wb\") as f:\n",
    "        pickle.dump(chunked_iihf_rulebook_embeddings, f)\n",
    "\n",
    "    with chunked_iihf_rulebook_embedding_filepath.open(\"rb\") as f:\n",
    "        chunked_iihf_rulebook_embeddings_test = pickle.load(f)\n",
    "    \n",
    "    assert chunked_iihf_rulebook_embeddings == chunked_iihf_rulebook_embeddings_test"
   ]
  },
  {
   "cell_type": "code",
   "execution_count": 13,
   "id": "1affe282-0dff-4bfb-8184-dc57d044fc54",
   "metadata": {},
   "outputs": [],
   "source": [
    "    with chunked_iihf_rulebook_embedding_filepath.open(\"wb\") as f:\n",
    "        pickle.dump(chunked_iihf_rulebook_embeddings, f)"
   ]
  },
  {
   "cell_type": "code",
   "execution_count": 14,
   "id": "b1519ab3-535f-42b3-920b-ddfd247385bd",
   "metadata": {},
   "outputs": [
    {
     "data": {
      "text/plain": [
       "1536"
      ]
     },
     "execution_count": 14,
     "metadata": {},
     "output_type": "execute_result"
    }
   ],
   "source": [
    "embedding_dim = len(chunked_iihf_rulebook_embeddings[0]['values'])\n",
    "embedding_dim"
   ]
  },
  {
   "cell_type": "markdown",
   "id": "729de3c2-507a-43fb-aec2-0f640079ca90",
   "metadata": {},
   "source": [
    "# Vector Database"
   ]
  },
  {
   "cell_type": "markdown",
   "id": "20abb589-6b55-4e13-be9e-fae0c736c602",
   "metadata": {},
   "source": [
    "## Pinecone"
   ]
  },
  {
   "cell_type": "code",
   "execution_count": 15,
   "id": "04e05502-701e-48f0-b43d-3418f5c19886",
   "metadata": {},
   "outputs": [
    {
     "data": {
      "text/plain": [
       "{'indexes': [{'dimension': 1536,\n",
       "              'host': 'canopy--iihf-rulebook-7748f17.svc.gcp-starter.pinecone.io',\n",
       "              'metric': 'cosine',\n",
       "              'name': 'canopy--iihf-rulebook',\n",
       "              'spec': {'pod': {'environment': 'gcp-starter',\n",
       "                               'pod_type': 'starter',\n",
       "                               'pods': 1,\n",
       "                               'replicas': 1,\n",
       "                               'shards': 1}},\n",
       "              'status': {'ready': True, 'state': 'Ready'}},\n",
       "             {'dimension': 1536,\n",
       "              'host': 'rulebook--v1--text-embedding-3-small-7748f17.svc.aped-4627-b74a.pinecone.io',\n",
       "              'metric': 'cosine',\n",
       "              'name': 'rulebook--v1--text-embedding-3-small',\n",
       "              'spec': {'serverless': {'cloud': 'aws', 'region': 'us-east-1'}},\n",
       "              'status': {'ready': True, 'state': 'Ready'}}]}"
      ]
     },
     "execution_count": 15,
     "metadata": {},
     "output_type": "execute_result"
    }
   ],
   "source": [
    "import os\n",
    "from pinecone.grpc import PineconeGRPC as Pinecone\n",
    "\n",
    "# initialize connection to pinecone (get API key at app.pinecone.io)\n",
    "pinecone_api_key = os.getenv(\"PINECONE_API_KEY\") or \"PINECONE_API_KEY\"\n",
    "\n",
    "pinecone_client = Pinecone(api_key=pinecone_api_key)\n",
    "pinecone_client.list_indexes()"
   ]
  },
  {
   "cell_type": "markdown",
   "id": "29f33e4e-9c4d-403c-86ed-d78b7a0f7896",
   "metadata": {},
   "source": [
    "### Create Index"
   ]
  },
  {
   "cell_type": "code",
   "execution_count": 16,
   "id": "2cc57055-cd55-47c9-91c3-5ec23c4f9b4e",
   "metadata": {},
   "outputs": [],
   "source": [
    "from pinecone import ServerlessSpec\n",
    "from icehockey_rules.retrieve import INDEX_NAME, PINECONE_INDEX\n",
    "\n",
    "\n",
    "if INDEX_NAME not in [index[\"name\"] for index in pinecone_client.list_indexes()]:\n",
    "    pinecone_client.create_index(\n",
    "        name=INDEX_NAME,\n",
    "        dimension=embedding_dim,\n",
    "        metric=\"cosine\",\n",
    "        spec=ServerlessSpec(\n",
    "            cloud='aws', \n",
    "            region='us-east-1'\n",
    "        ) \n",
    "    )"
   ]
  },
  {
   "cell_type": "markdown",
   "id": "492de1d1-d284-4733-a6fc-40bcf30e3bc5",
   "metadata": {},
   "source": [
    "### Populate Index"
   ]
  },
  {
   "cell_type": "code",
   "execution_count": 17,
   "id": "9f93ddb0-3575-4c0b-b33e-2e5fa5811a92",
   "metadata": {},
   "outputs": [
    {
     "name": "stdin",
     "output_type": "stream",
     "text": [
      "are you sure you want to index? n\n"
     ]
    }
   ],
   "source": [
    "def chunker(seq, batch_size):\n",
    "  return (seq[pos:pos + batch_size] for pos in range(0, len(seq), batch_size))\n",
    "\n",
    "yn_sure = input(\"are you sure you want to index?\")\n",
    "if yn_sure.lower() == 'y':\n",
    "    print(\"indexing\")\n",
    "    async_results = [\n",
    "        PINECONE_INDEX.upsert(vectors=chunk, async_req=True)\n",
    "        for chunk in chunker(chunked_iihf_rulebook_embeddings, batch_size=100)\n",
    "    ]\n",
    "    \n",
    "    # Wait for and retrieve responses (in case of error)\n",
    "    [async_result.result() for async_result in async_results]\n",
    "\n",
    "del chunked_iihf_rulebook_embeddings"
   ]
  },
  {
   "cell_type": "code",
   "execution_count": 19,
   "id": "06f2ba4f-c619-4765-b0d2-6ebdb1ba6972",
   "metadata": {},
   "outputs": [],
   "source": [
    "assert PINECONE_INDEX.describe_index_stats()[\"total_vector_count\"] == len(chunked_iihf_rulebook_records)"
   ]
  },
  {
   "cell_type": "markdown",
   "id": "1c0901f4-844c-496e-87b5-5da9c425d2b4",
   "metadata": {},
   "source": [
    "# Retrieval"
   ]
  },
  {
   "cell_type": "markdown",
   "id": "edc79675-730f-4ff0-b9f8-8be95188f2bc",
   "metadata": {},
   "source": [
    "## In Memory Rule Index"
   ]
  },
  {
   "cell_type": "code",
   "execution_count": 20,
   "id": "6e4ee883-9016-4a3d-ba56-848c43d123c9",
   "metadata": {},
   "outputs": [],
   "source": [
    "from icehockey_rules.rulebook import get_inmem_chunked_iihf_rulebook_index\n",
    "\n",
    "inmem_chunked_iihf_rulebook_index = get_inmem_chunked_iihf_rulebook_index()\n",
    "assert len(inmem_chunked_iihf_rulebook_index) == len(chunked_iihf_rulebook_records)"
   ]
  },
  {
   "cell_type": "markdown",
   "id": "f8b29de9-227e-4633-974f-31a8bbda6750",
   "metadata": {},
   "source": [
    "## Query"
   ]
  },
  {
   "cell_type": "code",
   "execution_count": 21,
   "id": "eaabe5b0-c940-4ad9-884e-c64f4693c164",
   "metadata": {},
   "outputs": [],
   "source": [
    "SITUATION = \"Can a player win a faceoff with their glove?\"\n",
    "TOP_K_CHUNKS = config.retriever.top_k_chunks"
   ]
  },
  {
   "cell_type": "markdown",
   "id": "f8b9c482-9e45-42dc-8515-322b93acd1c3",
   "metadata": {},
   "source": [
    "## Retreive Rule Matches and Retrieval Scores"
   ]
  },
  {
   "cell_type": "code",
   "execution_count": 31,
   "id": "06aac6c2-f1d9-4d76-966a-55a62408dc93",
   "metadata": {},
   "outputs": [
    {
     "data": {
      "text/html": [
       "<div>\n",
       "<style scoped>\n",
       "    .dataframe tbody tr th:only-of-type {\n",
       "        vertical-align: middle;\n",
       "    }\n",
       "\n",
       "    .dataframe tbody tr th {\n",
       "        vertical-align: top;\n",
       "    }\n",
       "\n",
       "    .dataframe thead tr th {\n",
       "        text-align: left;\n",
       "    }\n",
       "\n",
       "    .dataframe thead tr:last-of-type th {\n",
       "        text-align: right;\n",
       "    }\n",
       "</style>\n",
       "<table border=\"1\" class=\"dataframe\">\n",
       "  <thead>\n",
       "    <tr>\n",
       "      <th></th>\n",
       "      <th colspan=\"2\" halign=\"left\">score</th>\n",
       "      <th>title</th>\n",
       "    </tr>\n",
       "    <tr>\n",
       "      <th></th>\n",
       "      <th>sum</th>\n",
       "      <th>count</th>\n",
       "      <th></th>\n",
       "    </tr>\n",
       "    <tr>\n",
       "      <th>rule_number</th>\n",
       "      <th></th>\n",
       "      <th></th>\n",
       "      <th></th>\n",
       "    </tr>\n",
       "  </thead>\n",
       "  <tbody>\n",
       "    <tr>\n",
       "      <th>67</th>\n",
       "      <td>1.115870</td>\n",
       "      <td>2</td>\n",
       "      <td>HANDLING PUCK</td>\n",
       "    </tr>\n",
       "    <tr>\n",
       "      <th>9</th>\n",
       "      <td>1.090936</td>\n",
       "      <td>2</td>\n",
       "      <td>UNIFORMS</td>\n",
       "    </tr>\n",
       "    <tr>\n",
       "      <th>69</th>\n",
       "      <td>0.536357</td>\n",
       "      <td>1</td>\n",
       "      <td>INTERFERENCE ON THE GOALKEEPER</td>\n",
       "    </tr>\n",
       "    <tr>\n",
       "      <th>27</th>\n",
       "      <td>0.535971</td>\n",
       "      <td>1</td>\n",
       "      <td>GOALKEEPER'S PENALTIES</td>\n",
       "    </tr>\n",
       "    <tr>\n",
       "      <th>72</th>\n",
       "      <td>0.535301</td>\n",
       "      <td>1</td>\n",
       "      <td>REFUSING TO PLAY THE PUCK</td>\n",
       "    </tr>\n",
       "    <tr>\n",
       "      <th>63</th>\n",
       "      <td>0.530113</td>\n",
       "      <td>1</td>\n",
       "      <td>DELAYING THE GAME</td>\n",
       "    </tr>\n",
       "  </tbody>\n",
       "</table>\n",
       "</div>"
      ],
      "text/plain": [
       "                score                                 title\n",
       "                  sum count                                \n",
       "rule_number                                                \n",
       "67           1.115870     2                   HANDLING PUCK\n",
       "9            1.090936     2                        UNIFORMS\n",
       "69           0.536357     1  INTERFERENCE ON THE GOALKEEPER\n",
       "27           0.535971     1          GOALKEEPER'S PENALTIES\n",
       "72           0.535301     1       REFUSING TO PLAY THE PUCK\n",
       "63           0.530113     1               DELAYING THE GAME"
      ]
     },
     "execution_count": 31,
     "metadata": {},
     "output_type": "execute_result"
    }
   ],
   "source": [
    "from icehockey_rules.retrieve import retrieve, chunk_matches_to_rules_df\n",
    "\n",
    "chunk_matches = retrieve(query=SITUATION, top_k=TOP_K_CHUNKS).matches\n",
    "rule_matches_df = chunk_matches_to_rules_df(chunk_matches)\n",
    "rule_matches_df"
   ]
  },
  {
   "cell_type": "markdown",
   "id": "ea52c447-0d46-4d86-a737-76599c0b3ee2",
   "metadata": {},
   "source": [
    "# RAG"
   ]
  },
  {
   "cell_type": "markdown",
   "id": "7b3b453c-e49d-41e6-846c-9d5c89317fe8",
   "metadata": {},
   "source": [
    "## Prompts"
   ]
  },
  {
   "cell_type": "code",
   "execution_count": 33,
   "id": "4fef37a8-392d-435e-8260-f37377616553",
   "metadata": {},
   "outputs": [
    {
     "data": {
      "text/plain": [
       "54763"
      ]
     },
     "execution_count": 33,
     "metadata": {},
     "output_type": "execute_result"
    }
   ],
   "source": [
    "from icehockey_rules.chat import query_to_rag_prompt, SYSTEM_PROMPT\n",
    "\n",
    "system_prompt = SYSTEM_PROMPT\n",
    "rag_prompt = query_to_rag_prompt(query=SITUATION)\n",
    "len(system_prompt) + len(rag_prompt)"
   ]
  },
  {
   "cell_type": "markdown",
   "id": "b096b17a-7d04-4592-9fc7-52d8c3a7f42a",
   "metadata": {},
   "source": [
    "## Ask ChatGPT"
   ]
  },
  {
   "cell_type": "code",
   "execution_count": 34,
   "id": "940dafd4-4867-4d16-9cc9-f437764572a8",
   "metadata": {},
   "outputs": [
    {
     "name": "stdout",
     "output_type": "stream",
     "text": [
      "\n",
      "CONTEXT:\n",
      "    \n",
      "    RULE 67. HANDLING PUCK:\n",
      "    \n",
      "        67.1. HANDLING PUCK:\n",
      "        This rule outlines fouls that can result in a penalty when a Player illegally uses their hand on the puck. ➔ Rule 79 – Hand Pass for all references related to passing the puck with the hand.\n",
      "\n",
      "        67.2. HANDLING PUCK - MINOR PENALTY – SKATER:\n",
      "        A Player shall be permitted to catch the puck out of the air but must immediately place it or knock it down to the ice.\n",
      "A Player shall be assessed a Minor Penalty for \"closing their hand on the puck\": (I) If they catch it and skates with it, either to avoid a check or to gain a \"territorial advantage\" over their opponent. (II) If they place their hand over the puck while it is on the ice in order to conceal it from or prevent an opponent from playing the puck. When this is done in their Team's Goal Crease area, a \"Penalty Shot\" shall be assessed Rule 67.4 – Penalty Shot, or Rule 67.5 – Goal Awarded. (III) If they pick the puck up off the ice with their hand while play is in progress\n",
      "A Minor Penalty shall be assessed for \"Delay of Game\" – Face-off Violation to a Player taking the \"face-off\" who:  (I) Attempts to win the \"face-off\" by batting the puck with their hand. Note: The two (2) Players involved in the actual \"face-off\" (the centers) are not permitted to play the puck with their hand without incurring a penalty under this rule until such time as a third Player (from either Team) has at least touched the puck. Once the \"face-off\" is deemed complete (and a winner of the \"face-off\" is clear) hand passes shall be enforced ➔ Rule 79 – Hand Pass.\n",
      "\n",
      "        67.3. HANDLING PUCK - MINOR PENALTY – GOALKEEPER:\n",
      "        The object of this entire rule is to keep the puck in play continuously and any action taken by the Goalkeeper which causes an unnecessary stoppage must be penalized without warning.\n",
      "A \"Delay of Game\" penalty shall be assessed to a Goalkeeper who: (I) Holds the puck with their hands for longer than three (3) seconds unless they are actually being \"checked / pressured\" by an opponent; (II) Deliberately holds the puck in any manner which, in the opinion of the Referee, causes an unnecessary stoppage of play; (III) Throws the puck forward towards the opponent's net; Note: In the case where the puck thrown forward by the Goalkeeper being taken by an opponent, the Referee shall allow the resulting play to be completed, and if goal is scored by the non-offending Team, it shall be allowed and no penalty given; but if a goal is not scored, play shall be stopped and a Minor Penalty shall be imposed against the Goalkeeper;. (IV) Drops the puck into their pads or onto the goal net; (V) Deliberately piles up snow or obstacles at or near their net that, in the opinion of the Referee, would tend to prevent the scoring of a goal.\n",
      "\n",
      "        67.4. HANDLING PUCK - PENALTY SHOT:\n",
      "        This rule is described under ➔ Rule 63.6 – Penalty Shot\n",
      "\n",
      "        67.5. HANDLING PUCK - AWARDED GOAL:\n",
      "        When a Goalkeeper, prior to proceeding to their Players' Bench to be replaced by an extra attacker, intentionally leaves their stick or other piece of equipment, piles snow or other obstacles at or near their net that, in the opinion of the Referee, would tend to prevent the puck from entering the net, a goal shall be awarded. In order to award a goal in this situation, the Goalkeeper must have been replaced for an extra attacker, otherwise a Minor Penalty shall be assessed. If a Skater, when the Goalkeeper has been replaced for an extra attacker, falls on the puck, holds the puck, picks up the puck, or gathers the puck into their body or hands from the ice in the Goal Crease area, the play shall be stopped immediately, and a goal awarded to the non-offending Team.\n",
      "\n",
      "        67.6. HANDLING PUCK - DISALLOWED GOAL:\n",
      "        A goal cannot be scored by an attacking Player who \"bats or directs\" the puck with their hand into the net. A goal cannot be scored by an attacking Player who \"bats or directs\" the puck and it is \"deflected\" into the net off any Player or Official. When the puck enters the net on a \"clear deflection\" off a glove, the goal shall be allowed.\n",
      "\n",
      "    RULE 9. UNIFORMS:\n",
      "    \n",
      "        9.1. TEAM UNIFORM:\n",
      "        All Players of each Team shall be dressed uniformly with an approved design and color of their helmets, jerseys, short pants, and socks.\n",
      "All jerseys of a Team must be of the same design, including logo on the front, numbers on the sleeves and back, and nameplate on the back. The dominant color of the uniform must cover approximately 80 % of the jersey and socks, excluding names and numbers. If, in the opinion of the Referee, the uniform colors of the competing Teams are too similar and there is a possibility of misidentifying Players, it is the responsibility of the Home Team to change its jerseys.\n",
      "All Players on a Team must wear the same uniforms and jersey numbers in the on-ice warm-up as during the game. Altered uniforms of any kind, i.e. Velcro inserts, over-sized jerseys, altered collars, etc., will not be permitted. Any Player or Goalkeeper not complying with this rule shall not be permitted to participate in the game – refer to Rule 9.5. – Protective Equipment. Altered uniforms of any kind, i.e. Velcro inserts, over-sized jerseys, altered collars, etc., will not be permitted. Any Player or Goalkeeper not complying with this rule shall not be permitted to participate in the game. Players are not allowed to change or exchange jersey numbers once the game has started. They must wear the same number for the game's entirety and throughout entire competition.\n",
      "As an exception to this rule, when a Player's jersey becomes stained with blood or becomes badly torn during a game, they may be required by an On-ice Official to leave the ice and change into a designated jersey with another number and without a nameplate. Each Team shall design and wear distinctive and contrasting uniforms for their home and away games, no parts of which shall be interchangeable except the pants. Any concerns regarding a Player's uniform (including the Goalkeeper) shall be reported by the Re- feree to the Proper Authorities. All Player pants must be worn in a uniform fashion by all Players. The pants must be one consistent color around and throughout the leg of the pant. Pant legs are not to be ripped, cut, or torn in the leg / thigh area. Graffiti-type designs, patterns, artwork, drawings, or slogans which are abusive or obscene and refer to culture, race, or religion are not allowed on any part of the uniform.\n",
      "» For more information refer to IIHF Sport Regulations.\n",
      "\n",
      "        9.2. NUMBERS AND NAMEPLATES:\n",
      "        Each Player listed in the line-up of each Team shall wear an individual identifying number that is 25 - 30 cm (10 - 12 in) high on the back of the jersey and 10 cm (4 in) high on both sleeves. Numbers are limited to whole numbers from 1 to 99. Jersey numbers such as 00, ½ (fractions), .05 (decimals), 101 (three digit) are not permitted. No two (2) Players on a Team may use the same number in the same game.\n",
      "In addition, each Player shall wear their surname in full, in block letters 10 cm (4 in) high, across the back of their jersey at shoulder height, in block capital Roman letters of a font approved by the IIHF prior to the game or competition. A Player whose hair is long enough to obscure the nameplate or number on the back of the jersey must fashion it in a ponytail or tuck the hair under the helmet.\n",
      "\n",
      "        9.3. PLAYER'S JERSEY:\n",
      "        Players who do not comply with these rules are not allowed to participate in the game. Goalkeeper's Jersey- refer to Rule 9.4. Jerseys must not extend length-wise past the end of the pants, and the sleeves must not extend past the fingers of the glove. No inserts or additions are to be added to the standard Players' jersey as produced by the manufacturer. (Modifications at the manufacturer are not allowed unless approved in advance by the IIHF). The dominant color of the uniform must cover approximately 80 % of the jersey and socks, excluding names and numbers. Jerseys must be worn completely outside of the pants and must be properly fastened to the pants at all times with tie-down straps. If any Player on that Team fails to comply after a warning, a Minor Penalty will be assessed. ➔ Rule 63 – Delaying the Game. » For additional information, refer to IIHF Sport Regulations.\n",
      "\n",
      "        9.4. GOALKEEPER'S JERSEY:\n",
      "        Goalkeepers who do not comply with these rules are not allowed to participate in the game. Jerseys are not to be excessively over- sized. No inserts or additions are to be added to the standard Goalkeeper's jersey as produced by the manufacturer. Modifications at the manufacturer are not allowed unless approved in advance by the IIHF. No \"tying down\" of the jersey is allowed at the wrists if it creates a tension across the jersey allowing for a \"webbing effect\" which is not permitted. No other tie downs are allowed that create a \"webbing effect.\". The length of a jersey is illegal if it covers any area between the Goalkeeper's legs. » For additional information refer to IIHF Sport Regulations.\n",
      "\n",
      "        9.5. PROTECTIVE EQUIPMENT:\n",
      "        Equipment must conform to safety standards and be used only to protect Players, not to enhance or improve playing ability or to cause injury to an opponent.\n",
      "All protective equipment, except gloves, headgear, mouthguards, neck-/throat protection and Goalkeepers' leg guards must be worn under the uniform. The complete protective equipment must be worn during the game and during \"pre-game warm-up\". Should it be brought to the attention of the Referee that a Player is wearing, for example, an elbow pad that is not covered by their jersey, they shall instruct the Player to cover up the pad. A second violation by the same Player would result in a Minor Penalty being assessed.\n",
      "Whenever it is deemed by the Referee that a Player is wearing any equipment that does not meet with the IIHF regulations, they shall instruct the Player to change or remove the piece of equipment.\n",
      "The corresponding Player and their Team will be warned by the Referee to adjust the equipment accordingly. After the warning, all Players on that Team wearing such equipment shall be penalized in accordance with Rule 12 – Illegal Equipment. If the Player refuses, they shall be assessed a Minor Penalty for \"Delay of Game\" and if they return to the ice without making the change, they shall be issued a Misconduct Penalty. Should this happen a third time, the Player shall be issued a Game Misconduct Penalty.\n",
      "\n",
      "        9.6. HELMETS:\n",
      "        All Players shall wear a helmet of design, material and construction approved for ice hockey, with a chin strap always properly fastened, including during \"pre-game warm-up\", participating in the game, either on the playing surface or the Players' Benches or Penalty Boxes. The helmet should be attached in such a way that it cannot fall off. If it falls off and has not been removed by an opponent Player, it has not been attached correctly.\n",
      "A Player on the ice whose helmet comes off during play has to exit the playing surface immediately. A player on the ice whose helmet comes off during play is not allowed to retrieve and put their helmet back on their head – for this they have to proceed to their Players' Bench and exit the playing surface. If a Player does not comply with this rule, they shall be assessed a Minor Penalty without a warning\n",
      "➔ Rule 12 – Illegal Equipment.\n",
      "If the Player returns to their Players' Bench to be substituted for, they may only return to the ice during play with a helmet (with the chin strap properly fastened). No Player may exit the Penalty Box during play without a helmet (with the chin strap properly fastened). Should they do so, the play shall be stopped once their Team has gained control of the puck and a Minor Penalty shall be assessed to the offending Player. If a Player's chin strap becomes unfastened during game action, but the helmet stays on their head, they may continue to play until the next stoppage or until they leave the ice. A Player who intentionally removes an opponent's helmet during play shall be assessed a Minor Penalty for \"Roughing\".\n",
      "➔ Rule 51 – Roughing.\n",
      "When a goalkeeper is hit on the face mask by a hard shot with the puck and the Referee believes the Goalkeeper is or may be dazed by that hard shot, the Referee may stop play for safety reasons, if there is no immediate scoring chance for the attacking Team. When a Goalkeeper has lost their helmet and/or face mask and their Team has control of the puck, play shall be stopped immediately to allow the Goalkeeper the opportunity to recollect their helmet and/or face mask. When the opposing Team has control of the puck, play shall only be stopped if there is no immediate and impending scoring oppor- tunity. This stoppage of play must be made by the Referee. When play is stopped because the Goalkeeper has lost their helmet and/ or face mask, the ensuing \"face-off\" shall take place at one of the defending Team's End Zone Face-off Spots. When a Goalkeeper deliberately removes their helmet and/or face mask to secure a stoppage of play, the Referee shall stop play as outlined above and assess the Goalkeeper a Minor Penalty for \"Delay of Game\".\n",
      "➔ Rule 63 – Delaying the Game.\n",
      "If the Goalkeeper deliberately removes their helmet and/or face mask when the opposing Team is on a breakaway, the Referee shall award a \"Penalty Shot\" to the non-offending Team. If the Goalkeeper deliberately removes their helmet and/or face mask during the course of a \"Penalty Shot\" or shootout attempt, the Referee shall award a goal to the non-offending Team.\n",
      "\n",
      "        9.7. FACIAL PROTECTION:\n",
      "        There are three (3) permissible types of facial protection which can be attached to the front of a Players' helmet: a visor protection, a cage protection, or a full-face protection visor. All Players born after December 31, 1974, must wear, as a minimum a visor as a facial protection. The visor face protection must be properly affixed to their helmet, and must extend down in such a fashion as to ensure adequate eye protection, to cover the eyes and nose in its entirety. It must be fixed to the helmet along the sides so that it cannot be flipped up. A Player whose visor face protection becomes cracked or broken during game action must leave the ice immediately. Players are not allowed to wear a colored or tinted visor. Participating Teams in an IIHF Competition must ensure that their Players are equipped with a helmet manufactured and approved specifically for ice hockey and that, as applicable, a visor or a full-face protection is properly attached to it. Specific rules and guidelines for appropriate head / face / neck / throat / mouth protection for Women's Hockey and Men's Junior \"Under 20\" and \"Under 18\" categories.\n",
      "➔ Rule 102 – Womens Hockey Specific Equipement and ➔ Rule 202 – Mens Junior Hockey Specific Equipment.\n",
      "\n",
      "        9.8. DANGEROUS EQUIPMENT:\n",
      "        Equipment that does not conform to IIHF standards and equipment that is deemed unacceptable for the game action will be classified as \"Dangerous Equipment\". A Player using \"Dangerous Equipment\" will be sent off the ice by the Referee and their Team shall receive a warning from the Referee.\n",
      "After the Team has been warned, all Players on that Team wearing such equipment shall be penalized.\n",
      "➔ Rule 12 – Illegal Equipment.\n",
      "Dangerous Equipment includes wearing a visor in a way that may cause injury to an opponent, wearing non-approved equipment, using dangerous or illegal skates or stick, failing to wear equipment under the uniform (except gloves, helmet, and goaltender's pads), and cutting the palm out of one or both gloves.\n",
      "The use of pads or protectors made of metal, or of any other material likely to cause injury to an opposing Player is prohibited. Referees have the authority to prohibit any equipment they feel may cause injury to any participant in the game. Failure to comply with the Referees' instructions shall result in a Minor Penalty for \"Delay of Game\". A mask or protector of a design approved by the IIHF may be worn by a Player who has sustained a facial injury. In the first instance, the injured Player shall be entitled to wear any protective device prescribed by the Team Doctor. If any opposing Team objects to the device, it may record its objection with the IIHF. In cases where a stick may have been modified and it is evident that the edges have not been beveled, the Referee shall deem the stick to be dangerous equipment and removed from the game until the edges can be beveled sufficiently. No penalty is to be assessed unless the Player returns to the ice with the unmodified stick, in which case they will be assessed a Minor Penalty.\n",
      "➔ Rule 63 – Delaying the Game.\n",
      "\n",
      "        9.9. SHIN PADS:\n",
      "        Skaters' shin pads must be of a size that allows them to fit inside standard Skaters' socks. No protrusions from or additions to the manufactured shin pads are allowed.\n",
      "\n",
      "        9.10. SKATES:\n",
      "        Skates must consist of only four parts: boot, blade, blade holder, and laces. The boot must conform to the foot of the Skater and not be unduly wide or long or have any attachments to it. The blade must be smooth from front to back and secured in the blade holder at all times. It cannot have a pick in the manner of figure skates. The front and back of the blade must be properly covered by the blade holder such that no part of either end protrudes. The blade must not extend in front of the toe or behind the heel of the boot in the manner of speed skates. No mechanical attachment or any other device which might help a Skater's speed or ability to skate is allowed. Laces may be of any non-fluorescent color and tied in any manner, but they must not be so long that they touch the ice.\n",
      "\n",
      "        9.11. SKATES - GOALKEEPER:\n",
      "        A Goalkeeper's skates must have a non-fluorescent protective cowling at the front of each boot. The skate blade must be flat and cannot be longer than the boot. Any blades, projections, or \"cheaters\" added to the boot in order to give the Goalkeeper additional contact to the ice surface are not allowed.\n",
      "\n",
      "        9.12. NECK AND THROAT PROTECTION:\n",
      "        It is recommended that all Players wear a certified \"Neck and Throat Protection\". A Goalkeeper may attach a throat protector to the chin of their facemask. It must be made of a material that will not cause injury. Players who play in adult categories but are of the age as \"Under 20\" and \"Under 18\" categories must wear the appropriate protective equipment of these U20 and U18 categories in accordance with the specific rules. Specific rules and guidelines for appropriate head / face / neck / throat / mouth protection for Women's Hockey and Men's Junior \"Under 20\" and \"Under 18\" categories.\n",
      "➔ Rule 102 – Womens Hockey Specific Equipement and ➔ Rule 202 – Mens Junior Hockey Specific Equipment.\n",
      "\n",
      "        9.13. MOUTHGUARDS:\n",
      "        It is strongly recommended that all Players wear a mouthguard, preferably of the custom-made variety. The mouthguard is designed to protect the teeth and jaws from impact and may also serve to reduce the risk of concussions. It is strongly recommended that Players use a custom-made mouthguard. It is recommended to wear this mouthguard in a compliant manner at all times when on the ice. Players who play in adult categories but are of the age as \"Under 20\" and \"Under 18\" categories must wear the appropriate protec- tive equipment of these U20 and U18 categories in accordance with the specific rules.\n",
      "Specific rules and guidelines for appropriate head / face / neck / throat / mouth protection for Women's Hockey and Men's Junior \"Under 20\" and \"Under 18\" categories\n",
      "➔ Rule 102 – Womens Hockey Specific Equipement and ➔ Rule 202 – Mens Junior Hockey Specific Equipment.\n",
      "\n",
      "    RULE 9 SITUATIONS:\n",
      "        \n",
      "        SITUATION 9.1.0: \n",
      "\n",
      "            QUESTION: A player's jersey is torn during play. Is that player allowed to continue in the game with his jersey  torn or must the player be instructed to have it changed or repaired before permitted to continue?\n",
      "\n",
      "            ANSWER: This would be considered an altered jersey and it should be repaired or changed prior to the player being  permitted to return to play.\n",
      "\n",
      "        SITUATION 9.2.0: \n",
      "\n",
      "            QUESTION: During the play, a player loses the helmet and makes a player change on the fly. Play continues without any  whistles and this same player returns to the ice to play (still without his helmet). Is this permitted?\n",
      "\n",
      "            ANSWER: No, this is not permitted. If the player returns to the ice without a helmet, play shall be stopped once his team has gained control of the puck and a minor penalty is assessed.\n",
      "\n",
      "        SITUATION 9.3.0: \n",
      "\n",
      "            QUESTION: A player on Team A loses its helmet during the play. The player changes on the fly.  Through continuous action, the player returns to the ice without a helmet.  The officials notice this immediately and blow the whistle to stop play as soon as Team A gains control of the puck.  Where is the ensuing face-off?\n",
      "\n",
      "            ANSWER: Since this results in a minor penalty being assessed to the Team A player, the ensuing face-off will be  conducted at one of the end zone face-off spots in Team A's defending zone. Which face-off spot shall be selected by Team B.\n",
      "\n",
      "        SITUATION 9.4.0: \n",
      "\n",
      "            QUESTION: A player in the Penalty Box is without a helmet (it is being repaired at the player's bench).  There are no stoppages in play and he is unable to obtain his helmet before his penalty expires.  The player comes onto the ice without a helmet and skates directly across the ice to the player's  bench during the play. What, if anything, should the officials do in this situation?\n",
      "\n",
      "            ANSWER: This shall be treated in the same manner as a player coming from the Players' Bench without a helmet.  Once the team has gained control of the puck, the play is stopped, and a minor penalty assessed  to the player entering the game without a helmet. However, this should be avoided by ensuring the player receives a replacement helmet  prior to the resumption of play before the penalty begins.\n",
      "\n",
      "        SITUATION 9.5.0: \n",
      "\n",
      "            QUESTION: Team A's goaltender loses its mask during the play. What does the Referee do?\n",
      "\n",
      "            ANSWER: If Team A has control of the puck play shall be stopped immediately. If Team B has the puck then play  shall only be stopped if Team B has no immediate and impending scoring opportunity.  This stoppage of play must be made by the Referee.\n",
      "\n",
      "        SITUATION 9.6.0: \n",
      "\n",
      "            QUESTION: Team A player is on a breakaway. Team B's goalkeeper comes out of his crease to challenge the shooter  and deliberately removes his mask as the Team A player crosses the attacking blue line.  What action should be taken by the Referee?\n",
      "\n",
      "            ANSWER: Allow the play to continue and if Team A does not score then the Referee will stop play and award the  Team A player a Penalty Shot.\n",
      "\n",
      "        SITUATION 9.7.0: \n",
      "\n",
      "            QUESTION: During a Shootout attempt (or Penalty Shot) the goalkeeper deliberately removes its helmet and/or facemask.  What action should be taken by the Referee?\n",
      "\n",
      "            ANSWER: The Referee shall award a goal to the non-offending team.\n",
      "\n",
      "        SITUATION 9.8.0: \n",
      "\n",
      "            QUESTION: It is brought to the attention of the Referee that a player is wearing an altered jersey, and after  inspection by the Referee, it is clearly determined that in fact it has been altered.  What should the Referee do?\n",
      "\n",
      "            ANSWER: he Referee shall instruct the player to change or remove the altered jersey and if he refuses or fails to do so he shall be assessed a minor penalty for delay of game. If he returns to the ice without making the necessary change, he shall be assessed a misconduct penalty and for a third time, a game misconduct penalty.\n",
      "        SITUATION 9.9.0: \n",
      "\n",
      "            QUESTION: Team A player is assessed a matching minor penalty with an opponent.  Teams are going to play 4 on 4. The players helmet strap was broken during the scrum and it is taken  to the Players' Bench to be repaired by the equipment manager.  There are no stoppages in play during length of his penalty and the player does not get its helmet back.  What does the player do? What does the Off-Ice Official do? What do the on-ice officials do?\n",
      "\n",
      "            ANSWER: To avoid having to deal with a player entering the game without a helmet,  the officials (on and off-ice) should ensure the player receives a replacement helmet from his Players'  Bench before resuming play. Have a teammate take the broken one and secure a replacement helmet for  the penalized player.\n",
      "\n",
      "        SITUATION 9.10.0: \n",
      "\n",
      "            QUESTION: A player or goalkeeper loses a skate blade during play. Does the Referee stop the play?\n",
      "\n",
      "            ANSWER: If a teammate has control of the puck, the Referee may stop the play. If the opposing team has control of the puck, then play shall only be stopped if there is no immediate and impending scoring opportunity. This should be seen as situation described in rule 9.6 but with another piece of equipment then the helmet.\n",
      "        SITUATION 9.11.0: \n",
      "\n",
      "            QUESTION: A player loses her helmet during play. The puck is at the skaters feet and the skater selects to make a  pass to a teammate. Is this permitted?\n",
      "\n",
      "            ANSWER: No. A player is never allowed to make a play without a helmet. A minor penalty for playing without a helmet shall be assessed.\n",
      "\n",
      "        SITUATION 9.12.0: \n",
      "\n",
      "            QUESTION: A player loses her helmet during play. The skater selects to pick up its helmet  and put it back on. Is this permitted?\n",
      "\n",
      "            ANSWER: No. A player may not choose to retrieve and replace its helmet properly on the head.  A minor penalty for playing without a helmet shall be assessed.\n",
      "\n",
      "        SITUATION 9.13.0: \n",
      "\n",
      "            QUESTION: During a battle for the puck in the corner a Team A player grabs the back of a Team B player's helmet  and pulls it off the head. What, if anything, should the Referee do?\n",
      "\n",
      "            ANSWER: The Team A player should be assessed a minor penalty for roughing for removing an opponent's helmet during  play.\n",
      "\n",
      "    RULE 69. INTERFERENCE ON THE GOALKEEPER:\n",
      "    \n",
      "        69.1. INTERFERENCE ON THE GOALKEEPER:\n",
      "        This rule is based on the premise that an attacking Player's position, whether inside or outside the Goal Crease, should not, by itself, determine whether a goal should be allowed or disallowed. In other words, goals scored while attacking Players are standing in the Goal Crease may, in appropriate circumstances be allowed. \n",
      "Goals should be disallowed only if: (I) an attacking Player, either by their positioning or by a \"relevant contact\", impairs the Goalkeeper's ability to move freely within their Goal Crease or defend their goal; or (II) an attacking Player initiates intentional or deliberate contact with a Goalkeeper, inside or outside of their Goal Crease.\n",
      "\"Incidental contact\" with a Goalkeeper will be permitted, and resulting goals allowed, when such contact is initiated outside of the\n",
      "Goal Crease, provided the attacking Player has made a reasonable effort to avoid such contact.\n",
      "The rule will be enforced exclusively in accordance with the on-ice judgement of the Referee(s), but may be subject to a Video Review: ➔ Rule 37 – Video Review, when applicable or to a Coach's Challenge ➔ Rule 38 – Coach's Challenge. For purposes of this rule, \"contact / relevant contact\" whether \"incidental or otherwise\", shall mean any contact that is made between or among a Goalkeeper and attacking Player(s), whether by means of a stick or any part of the body. The overriding rationale of this rule is that a Goalkeeper should have the ability to move freely within their Goal Crease without being hindered by the actions of an attacking Player. If an attacking Player enters the Goal Crease and, by their actions, impairs the Goalkeeper's ability to defend their goal, and a goal is scored, the goal will be disallowed. If an attacking Player is in the Goal Crease and does not leave immediately, the Referee has the possibility to stop the game and the subsequent \"face-off\" shall take place at the nearest Neutral Zone Face-off Spot outside the Attacking Zone of the offending Team. If an attacking Player has been pushed, shoved, or fouled by a defending Player so as to cause them to come into contact with the Goalkeeper, such contact will not be deemed contact initiated by the attacking Player for purposes of this rule, provided the attacking Player has made a reasonable effort to avoid such contact. If a defending Player has been pushed, shoved, or fouled by an attacking Player so as to cause the defending Player to come into contact with their own Goalkeeper, such contact shall be deemed contact initiated by the attacking Player for purposes of this rule, and if necessary, a penalty assessed to the attacking Player and if a goal is scored it would be disallowed.\n",
      "➔ For more information refer to Appendix IV – Table 16 – Interference on the Goalkeeper Situations.\n",
      "\n",
      "        69.2. INTERFERENCE ON THE GOALKEEPER - PENALTY:\n",
      "        In all cases in which an attacking Player initiates \"intentional or deliberate\" contact with a Goalkeeper, whether or not the Goalkeeper is inside or outside the Goal Crease, and whether or not a goal is scored, the attacking Player will receive a penalty (Minor or Major, as the Referee deems appropriate). In all cases where the infraction being imposed is to the attacking Player for hindering the Goalkeeper's ability to move freely in their Goal Crease, the penalty to be assessed is for \"Goalkeeper interference\". In exercising their judgment, the Referee should give more significant consideration to the degree and nature of the relevant contact with the Goalkeeper than to the exact location of the Goalkeeper at the time of the contact.\n",
      "\n",
      "        69.3. INTERFERENCE ON THE GOALKEEPER - CONTACT INSIDE THE GOAL CREASE:\n",
      "        If an attacking Player initiates \"a relevant contact\" with a Goalkeeper, incidental or otherwise, while the Goalkeeper is in their Goal Crease, and a goal is scored, the goal will be disallowed. If a Goalkeeper, in the \"act of establishing their position\" within their Goal Crease, initiates contact with an attacking Player who is in the Goal Crease, and this results in an impairment of the Goalkeeper's ability to defend their goal, and a goal is scored, the goal will be disallowed. If, after any contact by a Goalkeeper who is attempting to establish position in their Goal Crease, the attacking Player does not immediately vacate their current position in the Goal Crease (i.e., give ground to the Goalkeeper), and a goal is scored, the goal will be disallowed. In all such cases, whether or not a goal is scored, the attacking Player will receive the appropriate penalty for Goalkeeper \"interference\". If an attacking Player establishes a \"significant position\" within the Goal Crease, so as to obstruct the Goalkeeper's vision and impair their ability to defend their goal, and a goal is scored, the goal will be disallowed. For this purpose, a Player \"establishes a significant position within the crease\" when, in the Referee's judgment, their body, or a substantial portion thereof, is within the Goal Crease for more than an instantaneous period of time. ➔ For more information refer to Appendix IV – Table 16 – Interference on the Goalkeeper Situations.\n",
      "\n",
      "        69.4. INTERFERENCE ON THE GOALKEEPER - CONTACT OUTSIDE THE GOAL CREASE:\n",
      "        If an attacking Player initiates any \"relevant contact\" with a Goalkeeper, other than \"incidental contact\", while the Goalkeeper is outside their Goal Crease, and a goal is scored, the goal will be disallowed. A Goalkeeper is not \"fair game\" just because they are outside the Goal Crease. The appropriate penalty should be assessed in every case where an attacking Player makes \"unnecessary contact\" with the Goalkeeper. However, \"incidental contact\" will be permitted when the Goalkeeper is in the act of playing the puck outside their Goal Crease provided the attacking Player has made a \"reasonable effort\" to avoid such unnecessary contact. When a Goalkeeper has played the puck outside of their Goal Crease and is then prevented from returning to their Goal Crease area due to the deliberate actions of an attacking Player, such Player may be penalized for \"Goalkeeper interference\". Similarly, the Goalkeeper may be penalized, if by their actions outside of their Goal Crease they deliberately interfere with an attacking Player who is attempting to play the puck or an opponent. ➔ For more information refer to Appendix IV – Table 16 – Interference on the Goalkeeper Situations.\n",
      "\n",
      "        69.5. INTERFERENCE ON THE GOALKEEPER - COACH'S CHALLENGE:\n",
      "        ➔ Rule 38 – Coach's Challenge\n",
      "\n",
      "        69.6. INTERFERENCE ON THE GOALKEEPER - FACE-OFF LOCATION:\n",
      "        Whenever the Referee stops play to disallow a goal as a result of \"relevant contact\" with the Goalkeeper (incidental or otherwise), the resulting \"face-off\" shall take place at the nearest Neutral Zone Face-off Spot outside the Attacking Zone of the offending Team.\n",
      "\n",
      "        69.7. INTERFERENCE ON THE GOALKEEPER - REBOUNDS AND LOOSE PUCKS:\n",
      "        In a rebound situation, or where a Goalkeeper and attacking Player(s) are simultaneously attempting to play a loose puck, whether inside or outside the Goal Crease, \"incidental contact\" with the Goalkeeper will be permitted, and any goal that is scored as a result thereof will be allowed. In the event a Goalkeeper has been pushed into the net together with the puck by an attacking Player after making a stop, the goal will be disallowed. If applicable, appropriate penalties will be assessed. If, however, in the opinion of the Referee, the attacking Player was pushed or otherwise fouled by a defending Player causing the Goalkeeper to be pushed into the net together with the puck, the goal can be permitted. In the event the puck is under a Player in or around the Goal Crease area (deliberately or otherwise), a goal cannot be scored by pushing this Player together with the puck into the goal. If applicable, the appropriate penalties will be assessed, including a \"Penalty Shot\" if deemed to be covered in the Goal Crease deliberately. ➔ Rule 63 – Delaying the Game.\n",
      "\n",
      "        69.8. INTERFERENCE ON THE GOALKEEPER - DISCIPLINARY MEASURES:\n",
      "        If deemed appropriate, Supplementary Discipline can be applied by the Proper Authorities at their discretion. ➔ Rule 28 – Supplementary Discipline.\n",
      "\n",
      "    RULE 27. GOALKEEPER'S PENALTIES:\n",
      "    \n",
      "        27.1. MINOR PENALTY TO GOALKEEPER:\n",
      "        A Goalkeeper shall not be sent to the Penalty Box for an offense which incurs a Minor Penalty, but instead, the Minor Penalty shall be served by another member of their Team who was on the ice when the offense was committed. This Player is to be designated by the Coach of the offending Team through the playing Captain and such substitute shall not be changed. A penalized Player may not serve a Goalkeeper's penalty. If the Goalkeeper is involved in Coincidental Penalties being assessed and as a result, their Team is required to play \"short-handed\" due to additional penalties assessed to the Goalkeeper, the Player designated to serve the additional time penalties assessed to the Goalkeeper may be any Player as designated by the Coach of the offending Team through the Captain.\n",
      "\n",
      "        27.2. MAJOR PENALTY TO GOALKEEPER:\n",
      "        A Goalkeeper shall not be sent to the Penalty Box for an offense which incurs a Major Penalty, but instead, the Major Penalty shall be served immediately by another member of their Team who was on the ice when the offense was committed. This Player is to be designated by the Coach of the offending Team through the Captain and such substitute shall not be changed. When a Goalkeeper is assessed a Major Penalty plus a Game Misconduct, which is coincidental with a Major or Match Penalty to the opposing Team, no Player is required to serve the Goalkeeper's penalties in the Penalty Box, since they have been ejected from the game. Should a Goalkeeper incur two (2) Major Penalties in one game (results an automatic Game Misconduct Penalty), they shall be ruled off the ice for the balance of the game and their place shall be taken by a member of their own Team, or by a regular substitute Goalkeeper who is available. Such Player will be allowed the Goalkeeper's full equipment.\n",
      "\n",
      "        27.3. MISCONDUCT PENALTY TO GOALKEEPER:\n",
      "        Should a Goalkeeper on the ice incur a Misconduct Penalty, this penalty shall be served by another member of their Team who was on the ice when the offense was committed. This Player is to be designated by the Coach of the offending Team through the Captain and such substitute shall not be changed.\n",
      "\n",
      "        27.4. GAME MISCONDUCT PENALTY TO GOALKEEPER:\n",
      "        Should a Goalkeeper incur a Game Misconduct Penalty, their place will then be taken by a member of their own Team, or by a regular substitute Goalkeeper who is available, and such Player will be allowed the Goalkeeper's full equipment.\n",
      "\n",
      "        27.5. MATCH PENALTY TO GOALKEEPER:\n",
      "        Should a Goalkeeper incur a Match Penalty, their place will then be taken by a member of their own Team, or by a substitute Goalkeeper who is available, and such Player will be allowed the Goalkeeper's full equipment. The Match Penalty, and any additional penalties assessed to the Goalkeeper, shall be served immediately by a member of the Team on the ice when the offenses were committed. This Player is to be designated by the Coach of the offending Team through the Captain and such substitute shall not be changed. However, when the Match Penalty is coincidental with a Match or Major Penalty to the opposing Team, no Player is required to proceed to the Penalty Box to serve the Goalkeeper's Match Penalty.\n",
      "\n",
      "        27.6. LEAVING GOAL CREASE:\n",
      "        A Minor Penalty shall be imposed on a Goalkeeper who leaves the immediate vicinity of their Goal Crease during an altercation. However, should the altercation occur in or near the Goalkeeper's crease, the Referee should direct the Goalkeeper to a neutral location and not assess a penalty for leaving the immediate vicinity of the Goal Crease. Equally, if the Goalkeeper is legitimately outside the immediate vicinity of the Goal Crease for the purpose of proceeding to the Players' Bench to be substituted for an extra attacker, and they subsequently become involved in an altercation, the Minor Penalty for leaving the crease would not be assessed. In addition, during stoppages of play in the game, they must not proceed to their Players' Bench for the purpose of receiving a replacement stick or equipment or repairs thereto, or due to an injury, or to receive instructions, without first obtaining permission to do so from the Referee. Otherwise, they must be replaced by the substitute Goalkeeper immediately (without any delay) or be assessed a Bench Minor Penalty. ➔ Rule 63 – Delaying the Game.\n",
      "\n",
      "        27.7. PARTICIPATING IN THE PLAY OVER THE CENTER RED LINE:\n",
      "        If a Goalkeeper participates in the play in any manner (intentionally plays the puck or checks an opponent) when they are beyond the center red line, a Minor Penalty shall be imposed upon them. The position of the puck is the determining factor for the application of this rule.\n",
      "\n",
      "        27.8. GOALKEEPER RESTRICTED AREA:\n",
      "        A Goalkeeper shall not play the puck outside of the goalkeeper restricted area behind the net. Should the Goalkeeper play the puck outside of the goalkeeper restricted area behind the Goal Line, a Minor Penalty for \"Delay of Game\" shall be imposed. The determining factor shall be the position of the puck. The Minor Penalty will not be assessed when a Goalkeeper plays the puck while maintaining skate contact with their Goal Crease. The designated trapezoidal area is marked with lines behind each goal. The lines run diagonally from the Goal Line to the Boards behind the goal. The outer dimension at the Goal Line is 6.80 m and at the Boards 8.60 m.\n",
      "➔ For more information refer to Appendix VI – Infographics\n",
      "\n",
      "        27.9. INFRACTIONS – UNIQUE TO GOALKEEPERS:\n",
      "        A list of the infractions that shall result in a penalty to the Goalkeeper can be found in Table 13. ➔ For more information refer to Appendix IV – Tables Overview – Table 13.\n",
      "\n",
      "    RULE 27 SITUATIONS:\n",
      "        \n",
      "        SITUATION 27.1.0: \n",
      "\n",
      "            QUESTION: Both teams are playing at full strength. At the same stoppage of play,  Player A #21 is assessed two minutes for interference on the goalkeeper and two minutes for roughing.  Player B #1 (the goalkeeper) is assessed two minutes for slashing and player B #25 is assessed two minutes  for roughing. What is the on-ice strength? Who serves the penalty for the goalkeeper? \n",
      "\n",
      "            ANSWER: The on-ice strength is five skaters against five skaters. The minor penalty assessed to the goalkeeper must be served by another member of his team who was on the ice when the offense was  committed (even though no penalty times go upon the penalty time clock). A penalized player may not serve a goalkeeper's penalty.\n",
      "\n",
      "        SITUATION 27.2.0: \n",
      "\n",
      "            QUESTION: During a stoppage of play where fighting penalties are assessed to both teams, both goalkeepers are also penalized.  One goalkeeper is assessed a minor penalty for roughing, the other a minor penalty for leaving his goal crease.  These minor penalties are cancelled out using the coincidental penalty rule and are not served on the penalty time clock.  Is it necessary for each team to place a player in the Penalty Box to serve the minor penalties assessed to the goalkeepers?\n",
      "\n",
      "            ANSWER: Yes, this is a minor penalty to the goalkeeper. The position of the puck is the determining factor for the application of this rule.\n",
      "\n",
      "        SITUATION 27.3.0: \n",
      "\n",
      "            QUESTION: Following a goal after the first Shootout attempt, the goalkeeper is assessed a misconduct penalty.  Is the goalkeeper allowed to continue in the Shootout? What action is taken by the Referee?\n",
      "\n",
      "            ANSWER: Yes,the goalkeeper may continue in the Shootout. All players are eligible to participate in the Shootout unless they are serving a penalty.  Since a goalkeeper does not actually \"serve\" a ten-minute misconduct, the goalkeeper may continue in the Shootout. However, the player  designated to serve the misconduct for the goalkeeper becomes ineligible to participate in the Shootout(which would also be true if the  player is serving the goalkeeper's misconduct at the  time the Shootout begins).  \n",
      "NOTE: when the goalkeeper is assessed the misconduct during the Shootout,the team must designate a player who has not yet participated in the Shootout to serve the misconduct. This is consistent with the procedure during the game where by the team of the penalized  goalkeeper is required to lose the services of a player for the duration of the goalkeeper's penalty(ies).\n",
      "\n",
      "        SITUATION 27.4.0: \n",
      "\n",
      "            QUESTION: The goalkeeper is on the way to the Players' Bench to be replaced for an extra attacker.  On the way to the bench the goalkeeper commits a foul worthy of a minor penalty. Should the goalkeeper also be assessed an additional minor penalty for leaving the goal crease?\n",
      "\n",
      "            ANSWER: No additional penalty for leaving the goal crease as he was legitimately outside the crease for the purpose of proceeding to the Players' Bench to be substituted for an extra attacker.\n",
      "\n",
      "        SITUATION 27.5.0: \n",
      "\n",
      "            QUESTION: The goalkeeper comes out of the crease into the neutral zone and plays the puck which is on the opponent's side of the center red line. However, the goalkeepers skates remain in his own half of the ice.  Is this a penalty?\n",
      "\n",
      "            ANSWER: Yes,this is a minor penalty to the goalkeeper. The position of the puck is the determining factor for the application of this rule.\n",
      "\n",
      "        SITUATION 27.6.0: \n",
      "\n",
      "            QUESTION: The goalkeeper leaves the crease area to play the puck. Both of the goalkeepers skates are inside the restricted area. The goalkeeper stops the puck on the stick on the goal line.  Is on the goal line considered to be in the restricted area and worthy of a minor penalty?\n",
      "\n",
      "            ANSWER: The goal line is not considered to be in the restricted area and therefore no penalty is assessed as per Rule 27.8 which states,\"Should the goalkeeper play the puck outside of the designated area  behind the goal line,a minor penalty for delay of game shall be imposed.\" Therefore, the puck must be over the goal line to be considered restricted area.\n",
      "\n",
      "        SITUATION 27.7.0: \n",
      "\n",
      "            QUESTION: The goalkeeper leaves the crease in an attempt to play the puck before it enters the restricted area in the corner.  The goalkeeper realizes that the puck cannot be played and begins to retreat towards the crease, skating through the restricted area.  An opposing player gets to the loose puck in the corner before the goalkeeper leaves the restricted area and attempts  to pass the puck to the front of the net. The goalkeeper drops down on the knees and blocks the pass using the leg pads which  is clearly inside the restricted area. Is this a penalty to the goalkeeper under Rule 28.8?\n",
      "\n",
      "            ANSWER: Since the goalkeeper \"plays\" the puck in the restricted area,the goalkeeper must be assessed a minor penalty for delay of game. \n",
      "\n",
      "        SITUATION 27.8.0: \n",
      "\n",
      "            QUESTION: With 10 seconds left in the first period players of both teams are assessed roughing minors. One of the players must go to his  dressing room due to an injury. Must the team of the injured player put a player in the Penalty Box to serve this penalty? If yes, does it have to be a player who was on the ice? When does it have to be someone on the ice?\n",
      "\n",
      "            ANSWER: Rule states that they must substitute immediately for the injured player and the substitute player shall serve the penalty until the injured player is able to return to the game. Any player may serve the penalty except the spare goalie. Only goalkeepers' penalties must be served by someone on the ice at the time of the infraction.\n",
      "\n",
      "        SITUATION 27.9.0: \n",
      "\n",
      "            QUESTION: Team A shoots the puck into Team B's zone. Team B's goalkeeper is out of the crease to play the puck. The goalkeeper, realizing quickly the error of playing the puck in the restricted area, turns to go back to the crease. The puck comes off the glass and hits the goalkeeper inadvertently. Is this a penalty?\n",
      "\n",
      "            ANSWER: No penalty. Rule states that the goalkeeper must play the puck to be penalized.\n",
      "\n",
      "        SITUATION 27.10.0: \n",
      "\n",
      "            QUESTION: A delayed minor penalty is signaled against Team A. The Team A goalkeeper leaves the crease and plays the puck in the corner within the restricted area to get the stoppage of play. Is the goalkeeper also assessed a minor penalty for playing the puck in the restricted area?\n",
      "\n",
      "            ANSWER: Yes,the goalkeeper shall be assessed a minor penalty for delay of game for playing the puck illegally in the restricted area, in addition to the originally signaled penalty to Team A.\n",
      "\n",
      "        SITUATION 27.11.0: \n",
      "\n",
      "            QUESTION: After a save, the puck enters the restricted area behind the goal line near the net. Then, the goaltender who just made the save and who has one skate in the goal crease and one outside of it,  drops down on the stomach poking the puck away from an opponent who was going to shoot it towards the net. What action, if any, should the Referee take?\n",
      "\n",
      "            ANSWER: This is a good hockey play, let the play go on!No penalty. The goaltender has a skate in contact with the goal crease.\n",
      "\n",
      "        SITUATION 27.12.0: \n",
      "\n",
      "            QUESTION: The Team A goalkeeper is assessed a major penalty. Does Team A have to place a player in the Penalty Box immediately to serve this penalty or can they select to put the substitute in the box at any time prior to the expiration of the major penalty?\n",
      "\n",
      "            ANSWER: The substitute must be put into the Penalty Box immediately as it must have been a player who was on the ice when the offense was committed. \n",
      "\n",
      "        SITUATION 27.13.0: \n",
      "\n",
      "            QUESTION: Team A player is assessed a match penalty for charging. On the same play the Team B goalkeeper is assessed a match penalty for roughing. Do both teams have to place players in the Penalty Box?\n",
      "\n",
      "            ANSWER: No. Both match penalties cancel out.\n",
      "\n",
      "        SITUATION 27.14.0: \n",
      "\n",
      "            QUESTION: During a scrum around the net, Team A's goalkeeper comes out of the crease to fight and receives 2 minutes for leaving the crease plus 5 minutes for fighting. Team B forward receives 5 minutes fighting. How are the goalkeeper's penalties served?\n",
      "\n",
      "            ANSWER: All penalties assessed to the goalkeeper shall be served by another member of the team who was on the ice when the offense was committed. Also, if a goalkeeper is involved in coincidental penalties being assessed and as a result, the team is required to play shorthanded due to additional penalties assessed to the goalkeeper, the player designated to serve th additional time penalties assessed to the goalkeeper maybe any player as designated by the Manager or Coach of the offending team through the playing captain.\n",
      "\n",
      "        SITUATION 27.15.0: \n",
      "\n",
      "            QUESTION: During a stoppage of play the Referee conducting the line change procedure notices that the goalkeeper is at the Players' Bench receiving a new stick. How should this be handled by the Referee?\n",
      "\n",
      "            ANSWER: During stoppages of play in the game, the goalkeeper must not proceed to his Players'Bench for the purpose of receiving a replacement stick or repairs there to,or due to an injury, or to receive instructions, without first obtaining permission to do so from the Referee. Otherwise the goalkeeper must be replaced by the substitute goalkeeper immediately (without delay) or be assessed a bench minor penalty for delay of game.\n",
      "\n",
      "        SITUATION 27.16.0: \n",
      "\n",
      "            QUESTION: Team B's forward runs the Team A goalkeeper in the crease. A fight ensues, and the Team B forward is assessed a major for charging and a major for fighting. The Team A goalkeeper is assessed 2 minutes for leaving the crease and a major for fighting. How are the goalkeeper's penalties served?\n",
      "\n",
      "            ANSWER: The major penalty is served by another member of the goalkeepers team who was on the ice when the offense was committed. The minor penalty is served by any player as designated by the Coach through the captain.\n",
      "\n",
      "        SITUATION 27.17.0: \n",
      "\n",
      "            QUESTION: Are there any instances when a goalkeeper's penalty does not have to be served by a player on the ice?\n",
      "\n",
      "            ANSWER: Yes. If a goalkeeper is involved in coincidental penalties being assessed and as aresult, the goalkeepers team is required to play shorthanded due to additional penalties assessed to the goalkeeper, the player designated to serve the additional time penalties assessed to the goalkeeper may be any player.  Also, when a goalkeeper receives a match penalty that is coincidental with a match or major penalty to the opposing team, no player is required to proceed to the Penalty Bench to serve the goalkeeper's match penalty.\n",
      "\n",
      "        SITUATION 27.18.0: \n",
      "\n",
      "            QUESTION: At a stoppage of play, Team A is assessed a minor penalty and the Team B goalkeeper is assessed two minor penalties. Obviously, Team B must place a player who was on the ice when the offence was committed in the Penalty Box to serve the 4 minutes assessed to the goalkeeper.  They must place a second player to serve the minor penalty that will cause Team B to play shorthanded. Does this player also have to be a player who was on the ice when the offense was committed?\n",
      "\n",
      "            ANSWER: No,it does not have to be that. \"If the goalkeeper is involved in coincidental penaltie being assessed and as aresult, the team is required to play shorthanded due to additional penalties assessed to the goalkeeper, the player designated to serve the additional time penalties assessed to the goalkeeper may be any player as designated by the Manager or Coach of the offending team through the playing Captain.\n",
      "\n",
      "    RULE 72. REFUSING TO PLAY THE PUCK:\n",
      "    \n",
      "        72.1. REFUSING OR ABSTAINING FROM PLAYING THE PUCK:\n",
      "        The purpose of this section is to enforce continuous action and both Referees and Linespersons should interpret and apply the rule to produce this result.\n",
      "\n",
      "        72.2. HAND PASS:\n",
      "        When a \"hand pass\" has been initiated by one Player to a Teammate and the Teammate elects not to play the puck to avoid the stoppage of play, and the opposing Team also abstains from playing the puck (perhaps to allow time to expire on a penalty), the Referee shall stop the play and order the resulting \"face-off\" at the nearest \"face-off\" location to where the play was stopped for this violation.\n",
      "\n",
      "        72.3. HIGH STICK:\n",
      "        When a Player contacts the puck with their stick above the \"normal height of the shoulders\" and a Teammate elects not to play the puck to avoid the stoppage of play, and the opposing Team also abstains from playing the puck (perhaps to allow time to expire on a penalty), the Referee shall stop the play and order the resulting \"face-off\" at the Face-off Spot in the zone to nearest to where the play was stopped for this violation ➔ Rule 76.2 – Face-off Locations.\n",
      "\n",
      "        72.4. ICING:\n",
      "        If, in the opinion of the Referee, the defending side \"intentionally\" abstains from pursuing the puck beyond the Face-off Spots on an icing promptly when they are in a position to do so, they shall stop the play and order the resulting \"face-off\" on the adjacent corner Face-off Spot nearest the goal of the Team at fault.\n",
      "\n",
      "        72.5. PENALTY:\n",
      "        When the Referee signals the delayed calling of a penalty to one Team and a Player of that Team intentionally abstains from playing the puck in order to allow additional time to expire on the game or penalty time clocks, the Referee shall stop the play and order the resulting \"face-off\" at one of the Face-off Spots in the offending Team's Defending Zone. ➔ Rule 76.2 – Face-off Locations.\n",
      "\n",
      "SITUATION: Can a player win a faceoff with their glove?\n",
      "\n",
      "RESULT:\n",
      "    \n"
     ]
    }
   ],
   "source": [
    "print(rag_prompt)"
   ]
  },
  {
   "cell_type": "code",
   "execution_count": 27,
   "id": "3c248983-abdb-4393-9be9-1c79dd9ef23b",
   "metadata": {},
   "outputs": [],
   "source": [
    "system_prompt = \"\"\"You are an ice hockey rule assistant. \n",
    "Given a question or situation, describe what the rules indicate should happen using only the context provided.\n",
    "Always source the associated rule number and title in the context.\n",
    "If you cannot answer based on the context, respond with \"I couldn't come up with an answer, but here are\n",
    "some potentially relevant rules:\" followed by a list the RULE numbers and titles found in the context.\n",
    "\"\"\"\n",
    "\n",
    "completion = openai_client.chat.completions.create(\n",
    "    model=\"gpt-4-turbo\",\n",
    "    messages=[\n",
    "    dict(role=\"system\", content=system_prompt),\n",
    "    dict(role=\"user\", content=rag_prompt),\n",
    "    ],\n",
    "    temperature=0.0\n",
    ")\n"
   ]
  },
  {
   "cell_type": "code",
   "execution_count": 28,
   "id": "de9cff16-1dd6-49bb-b3ef-5137fedd1040",
   "metadata": {},
   "outputs": [
    {
     "name": "stdout",
     "output_type": "stream",
     "text": [
      "Question: Can a player win a faceoff with their glove?\n",
      "Answer:\n",
      " I couldn't come up with an answer, but here are some potentially relevant rules:\n",
      "\n",
      "- [RULE 67: ILLEGAL SUBSTITUTION]\n",
      "- [RULE 9: UNIFORMS]\n",
      "- [RULE 69: INTERFERENCE ON THE GOALKEEPER]\n",
      "- [RULE 27: GOALKEEPER'S PENALTIES]\n",
      "- [RULE 72: REFUSING TO PLAY THE PUCK]\n",
      "- [RULE 63: DELAYING THE GAME]\n",
      "- [RULE 24: PENALTY SHOT]\n",
      "- [RULE 8: INJURED PLAYERS]\n",
      "Rules Retrieved:                 score                                 title\n",
      "                  sum count                                \n",
      "rule_number                                                \n",
      "67           1.115870     2            ILLEGAL SUBSTITUTION\n",
      "9            1.090936     2                        UNIFORMS\n",
      "69           0.536357     1  INTERFERENCE ON THE GOALKEEPER\n",
      "27           0.535971     1          GOALKEEPER'S PENALTIES\n",
      "72           0.535301     1       REFUSING TO PLAY THE PUCK\n",
      "63           0.530113     1               DELAYING THE GAME\n",
      "24           0.529196     1                    PENALTY SHOT\n",
      "8            0.528312     1                 INJURED PLAYERS\n"
     ]
    }
   ],
   "source": [
    "print(\"Question:\", SITUATION)\n",
    "print(\"Answer:\\n\", completion.choices[0].message.content)\n",
    "print(\"Rules Retrieved:\", rule_matches_df)"
   ]
  },
  {
   "cell_type": "markdown",
   "id": "b5d55287-1b02-48db-972a-ca0ed3e32b9e",
   "metadata": {},
   "source": [
    "# As PIPELINE"
   ]
  },
  {
   "cell_type": "code",
   "execution_count": 74,
   "id": "53063db9-f743-4b60-84a0-97293410d2fa",
   "metadata": {},
   "outputs": [
    {
     "name": "stdout",
     "output_type": "stream",
     "text": [
      "Question: Two players punch each other after the game is over.\n"
     ]
    },
    {
     "data": {
      "text/plain": [
       "ChatCompletionMessage(content='According to Rule 46.9, \"Fighting Other Than During the Periods of the Game,\" any players involved in an altercation after the game has ended will be investigated by the proper authorities, and supplementary discipline can be applied in addition to any other appropriate penalties. Players involved in fighting after the game shall be assessed a Major Penalty (\"Fighting\") and an automatic Game Misconduct Penalty (5\\'+GMP). If one of the players is deemed to be an \"Aggressor\" or an \"Instigator/Initiator,\" they will be penalized according to Rule 46.3 and/or Rule 46.4.\\n\\n**Source:** Rule 46.9 – Fighting Other Than During the Periods of the Game', role='assistant', function_call=None, tool_calls=None)"
      ]
     },
     "execution_count": 74,
     "metadata": {},
     "output_type": "execute_result"
    }
   ],
   "source": [
    "from icehockey_rules.pipelines import one_off_question_answer\n",
    "\n",
    "print(\"Question:\", SITUATION)\n",
    "one_off_question_answer(query=SITUATION, model=\"gpt-4o-2024-05-13\")"
   ]
  },
  {
   "cell_type": "markdown",
   "id": "a4787538-d32e-420a-a682-a6269eb2003b",
   "metadata": {},
   "source": [
    "# From API"
   ]
  },
  {
   "cell_type": "code",
   "execution_count": 69,
   "id": "2a946d7b-c25b-4aca-aa32-b518926cb3cb",
   "metadata": {},
   "outputs": [
    {
     "data": {
      "text/plain": [
       "403"
      ]
     },
     "execution_count": 69,
     "metadata": {},
     "output_type": "execute_result"
    }
   ],
   "source": [
    "import requests\n",
    "\n",
    "endpoint_url = \"http://localhost:8000/context/chat/completions\"\n",
    "\n",
    "access_token = os.getenv(\"API_KEY\")\n",
    "\n",
    "response = requests.post(url=endpoint_url, params=dict(query=\"hello\"), headers=dict(access_token=access_token))\n",
    "response.status_code"
   ]
  }
 ],
 "metadata": {
  "kernelspec": {
   "display_name": "Python 3.12 (rulebot)",
   "language": "python",
   "name": "rulebot"
  },
  "language_info": {
   "codemirror_mode": {
    "name": "ipython",
    "version": 3
   },
   "file_extension": ".py",
   "mimetype": "text/x-python",
   "name": "python",
   "nbconvert_exporter": "python",
   "pygments_lexer": "ipython3",
   "version": "3.12.3"
  },
  "toc": {
   "base_numbering": 1,
   "nav_menu": {},
   "number_sections": true,
   "sideBar": true,
   "skip_h1_title": false,
   "title_cell": "Table of Contents",
   "title_sidebar": "Contents",
   "toc_cell": false,
   "toc_position": {},
   "toc_section_display": true,
   "toc_window_display": false
  }
 },
 "nbformat": 4,
 "nbformat_minor": 5
}
